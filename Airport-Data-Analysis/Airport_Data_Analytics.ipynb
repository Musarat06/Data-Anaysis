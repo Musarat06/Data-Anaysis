{
 "cells": [
  {
   "cell_type": "code",
   "execution_count": 1,
   "metadata": {},
   "outputs": [],
   "source": [
    "import numpy as np\n",
    "import pandas as pd\n",
    "import matplotlib.pyplot as plt\n",
    "from matplotlib import cm"
   ]
  },
  {
   "cell_type": "code",
   "execution_count": 2,
   "metadata": {},
   "outputs": [],
   "source": [
    "Df1997 = pd.read_csv('1997.csv')\n",
    "Df1998 = pd.read_csv('1998.csv')\n",
    "Df1999 = pd.read_csv('1999.csv')"
   ]
  },
  {
   "cell_type": "code",
   "execution_count": 3,
   "metadata": {},
   "outputs": [
    {
     "data": {
      "text/html": [
       "<div>\n",
       "<style scoped>\n",
       "    .dataframe tbody tr th:only-of-type {\n",
       "        vertical-align: middle;\n",
       "    }\n",
       "\n",
       "    .dataframe tbody tr th {\n",
       "        vertical-align: top;\n",
       "    }\n",
       "\n",
       "    .dataframe thead th {\n",
       "        text-align: right;\n",
       "    }\n",
       "</style>\n",
       "<table border=\"1\" class=\"dataframe\">\n",
       "  <thead>\n",
       "    <tr style=\"text-align: right;\">\n",
       "      <th></th>\n",
       "      <th>Year</th>\n",
       "      <th>Month</th>\n",
       "      <th>DayofMonth</th>\n",
       "      <th>DayOfWeek</th>\n",
       "      <th>DepTime</th>\n",
       "      <th>CRSDepTime</th>\n",
       "      <th>ArrTime</th>\n",
       "      <th>CRSArrTime</th>\n",
       "      <th>UniqueCarrier</th>\n",
       "      <th>FlightNum</th>\n",
       "      <th>...</th>\n",
       "      <th>TaxiIn</th>\n",
       "      <th>TaxiOut</th>\n",
       "      <th>Cancelled</th>\n",
       "      <th>CancellationCode</th>\n",
       "      <th>Diverted</th>\n",
       "      <th>CarrierDelay</th>\n",
       "      <th>WeatherDelay</th>\n",
       "      <th>NASDelay</th>\n",
       "      <th>SecurityDelay</th>\n",
       "      <th>LateAircraftDelay</th>\n",
       "    </tr>\n",
       "  </thead>\n",
       "  <tbody>\n",
       "    <tr>\n",
       "      <th>0</th>\n",
       "      <td>1997</td>\n",
       "      <td>1</td>\n",
       "      <td>28</td>\n",
       "      <td>2</td>\n",
       "      <td>1615.0</td>\n",
       "      <td>1615</td>\n",
       "      <td>1728.0</td>\n",
       "      <td>1725</td>\n",
       "      <td>WN</td>\n",
       "      <td>1159</td>\n",
       "      <td>...</td>\n",
       "      <td>4</td>\n",
       "      <td>9</td>\n",
       "      <td>0</td>\n",
       "      <td>NaN</td>\n",
       "      <td>0</td>\n",
       "      <td>NaN</td>\n",
       "      <td>NaN</td>\n",
       "      <td>NaN</td>\n",
       "      <td>NaN</td>\n",
       "      <td>NaN</td>\n",
       "    </tr>\n",
       "    <tr>\n",
       "      <th>1</th>\n",
       "      <td>1997</td>\n",
       "      <td>1</td>\n",
       "      <td>29</td>\n",
       "      <td>3</td>\n",
       "      <td>1624.0</td>\n",
       "      <td>1615</td>\n",
       "      <td>1735.0</td>\n",
       "      <td>1725</td>\n",
       "      <td>WN</td>\n",
       "      <td>1159</td>\n",
       "      <td>...</td>\n",
       "      <td>4</td>\n",
       "      <td>11</td>\n",
       "      <td>0</td>\n",
       "      <td>NaN</td>\n",
       "      <td>0</td>\n",
       "      <td>NaN</td>\n",
       "      <td>NaN</td>\n",
       "      <td>NaN</td>\n",
       "      <td>NaN</td>\n",
       "      <td>NaN</td>\n",
       "    </tr>\n",
       "    <tr>\n",
       "      <th>2</th>\n",
       "      <td>1997</td>\n",
       "      <td>1</td>\n",
       "      <td>30</td>\n",
       "      <td>4</td>\n",
       "      <td>1626.0</td>\n",
       "      <td>1615</td>\n",
       "      <td>1730.0</td>\n",
       "      <td>1725</td>\n",
       "      <td>WN</td>\n",
       "      <td>1159</td>\n",
       "      <td>...</td>\n",
       "      <td>2</td>\n",
       "      <td>10</td>\n",
       "      <td>0</td>\n",
       "      <td>NaN</td>\n",
       "      <td>0</td>\n",
       "      <td>NaN</td>\n",
       "      <td>NaN</td>\n",
       "      <td>NaN</td>\n",
       "      <td>NaN</td>\n",
       "      <td>NaN</td>\n",
       "    </tr>\n",
       "    <tr>\n",
       "      <th>3</th>\n",
       "      <td>1997</td>\n",
       "      <td>1</td>\n",
       "      <td>31</td>\n",
       "      <td>5</td>\n",
       "      <td>1628.0</td>\n",
       "      <td>1615</td>\n",
       "      <td>1729.0</td>\n",
       "      <td>1725</td>\n",
       "      <td>WN</td>\n",
       "      <td>1159</td>\n",
       "      <td>...</td>\n",
       "      <td>4</td>\n",
       "      <td>7</td>\n",
       "      <td>0</td>\n",
       "      <td>NaN</td>\n",
       "      <td>0</td>\n",
       "      <td>NaN</td>\n",
       "      <td>NaN</td>\n",
       "      <td>NaN</td>\n",
       "      <td>NaN</td>\n",
       "      <td>NaN</td>\n",
       "    </tr>\n",
       "    <tr>\n",
       "      <th>4</th>\n",
       "      <td>1997</td>\n",
       "      <td>1</td>\n",
       "      <td>14</td>\n",
       "      <td>2</td>\n",
       "      <td>1503.0</td>\n",
       "      <td>1425</td>\n",
       "      <td>1619.0</td>\n",
       "      <td>1535</td>\n",
       "      <td>WN</td>\n",
       "      <td>1221</td>\n",
       "      <td>...</td>\n",
       "      <td>4</td>\n",
       "      <td>8</td>\n",
       "      <td>0</td>\n",
       "      <td>NaN</td>\n",
       "      <td>0</td>\n",
       "      <td>NaN</td>\n",
       "      <td>NaN</td>\n",
       "      <td>NaN</td>\n",
       "      <td>NaN</td>\n",
       "      <td>NaN</td>\n",
       "    </tr>\n",
       "  </tbody>\n",
       "</table>\n",
       "<p>5 rows × 29 columns</p>\n",
       "</div>"
      ],
      "text/plain": [
       "   Year  Month  DayofMonth  DayOfWeek  DepTime  CRSDepTime  ArrTime  \\\n",
       "0  1997      1          28          2   1615.0        1615   1728.0   \n",
       "1  1997      1          29          3   1624.0        1615   1735.0   \n",
       "2  1997      1          30          4   1626.0        1615   1730.0   \n",
       "3  1997      1          31          5   1628.0        1615   1729.0   \n",
       "4  1997      1          14          2   1503.0        1425   1619.0   \n",
       "\n",
       "   CRSArrTime UniqueCarrier  FlightNum  ... TaxiIn  TaxiOut  Cancelled  \\\n",
       "0        1725            WN       1159  ...      4        9          0   \n",
       "1        1725            WN       1159  ...      4       11          0   \n",
       "2        1725            WN       1159  ...      2       10          0   \n",
       "3        1725            WN       1159  ...      4        7          0   \n",
       "4        1535            WN       1221  ...      4        8          0   \n",
       "\n",
       "   CancellationCode  Diverted  CarrierDelay WeatherDelay NASDelay  \\\n",
       "0               NaN         0           NaN          NaN      NaN   \n",
       "1               NaN         0           NaN          NaN      NaN   \n",
       "2               NaN         0           NaN          NaN      NaN   \n",
       "3               NaN         0           NaN          NaN      NaN   \n",
       "4               NaN         0           NaN          NaN      NaN   \n",
       "\n",
       "   SecurityDelay  LateAircraftDelay  \n",
       "0            NaN                NaN  \n",
       "1            NaN                NaN  \n",
       "2            NaN                NaN  \n",
       "3            NaN                NaN  \n",
       "4            NaN                NaN  \n",
       "\n",
       "[5 rows x 29 columns]"
      ]
     },
     "execution_count": 3,
     "metadata": {},
     "output_type": "execute_result"
    }
   ],
   "source": [
    "Df1997.head()"
   ]
  },
  {
   "cell_type": "code",
   "execution_count": 5,
   "metadata": {},
   "outputs": [
    {
     "data": {
      "text/plain": [
       "Year                       0\n",
       "Month                      0\n",
       "DayofMonth                 0\n",
       "DayOfWeek                  0\n",
       "DepTime                97763\n",
       "CRSDepTime                 0\n",
       "ArrTime               109844\n",
       "CRSArrTime                 0\n",
       "UniqueCarrier              0\n",
       "FlightNum                  0\n",
       "TailNum                    0\n",
       "ActualElapsedTime     109844\n",
       "CRSElapsedTime          4849\n",
       "AirTime               109844\n",
       "ArrDelay              109844\n",
       "DepDelay               97763\n",
       "Origin                     0\n",
       "Dest                       0\n",
       "Distance                   0\n",
       "TaxiIn                     0\n",
       "TaxiOut                    0\n",
       "Cancelled                  0\n",
       "CancellationCode     5411843\n",
       "Diverted                   0\n",
       "CarrierDelay         5411843\n",
       "WeatherDelay         5411843\n",
       "NASDelay             5411843\n",
       "SecurityDelay        5411843\n",
       "LateAircraftDelay    5411843\n",
       "dtype: int64"
      ]
     },
     "execution_count": 5,
     "metadata": {},
     "output_type": "execute_result"
    }
   ],
   "source": [
    "Df1997.isna().sum()"
   ]
  },
  {
   "cell_type": "code",
   "execution_count": 6,
   "metadata": {},
   "outputs": [
    {
     "data": {
      "text/plain": [
       "Year                       0\n",
       "Month                      0\n",
       "DayofMonth                 0\n",
       "DayOfWeek                  0\n",
       "DepTime               144509\n",
       "CRSDepTime                 0\n",
       "ArrTime               157670\n",
       "CRSArrTime                 0\n",
       "UniqueCarrier              0\n",
       "FlightNum                  0\n",
       "TailNum                    0\n",
       "ActualElapsedTime     157670\n",
       "CRSElapsedTime          2386\n",
       "AirTime               157670\n",
       "ArrDelay              157670\n",
       "DepDelay              144509\n",
       "Origin                     0\n",
       "Dest                       0\n",
       "Distance                   0\n",
       "TaxiIn                     0\n",
       "TaxiOut                    0\n",
       "Cancelled                  0\n",
       "CancellationCode     5384721\n",
       "Diverted                   0\n",
       "CarrierDelay         5384721\n",
       "WeatherDelay         5384721\n",
       "NASDelay             5384721\n",
       "SecurityDelay        5384721\n",
       "LateAircraftDelay    5384721\n",
       "dtype: int64"
      ]
     },
     "execution_count": 6,
     "metadata": {},
     "output_type": "execute_result"
    }
   ],
   "source": [
    "Df1998.isna().sum()"
   ]
  },
  {
   "cell_type": "code",
   "execution_count": 7,
   "metadata": {},
   "outputs": [
    {
     "data": {
      "text/plain": [
       "Year                       0\n",
       "Month                      0\n",
       "DayofMonth                 0\n",
       "DayOfWeek                  0\n",
       "DepTime               154311\n",
       "CRSDepTime                 0\n",
       "ArrTime               167866\n",
       "CRSArrTime                 0\n",
       "UniqueCarrier              0\n",
       "FlightNum                  0\n",
       "TailNum                    0\n",
       "ActualElapsedTime     167866\n",
       "CRSElapsedTime          8992\n",
       "AirTime               167866\n",
       "ArrDelay              167866\n",
       "DepDelay              154311\n",
       "Origin                     0\n",
       "Dest                       0\n",
       "Distance                   0\n",
       "TaxiIn                     0\n",
       "TaxiOut                    0\n",
       "Cancelled                  0\n",
       "CancellationCode     5527884\n",
       "Diverted                   0\n",
       "CarrierDelay         5527884\n",
       "WeatherDelay         5527884\n",
       "NASDelay             5527884\n",
       "SecurityDelay        5527884\n",
       "LateAircraftDelay    5527884\n",
       "dtype: int64"
      ]
     },
     "execution_count": 7,
     "metadata": {},
     "output_type": "execute_result"
    }
   ],
   "source": [
    "Df1999.isna().sum()"
   ]
  },
  {
   "cell_type": "markdown",
   "metadata": {},
   "source": [
    "These are the number of missing values in each columns. Here we can see that some columns are completely exmpty having all the values are missing. We first remove that. "
   ]
  },
  {
   "cell_type": "code",
   "execution_count": 8,
   "metadata": {},
   "outputs": [],
   "source": [
    "Df1997 = Df1997.drop(['CancellationCode', 'CarrierDelay','WeatherDelay','NASDelay','SecurityDelay','LateAircraftDelay'], axis = 1)\n",
    "Df1998 = Df1998.drop(['CancellationCode', 'CarrierDelay','WeatherDelay','NASDelay','SecurityDelay','LateAircraftDelay'], axis = 1)\n",
    "Df1999 = Df1999.drop(['CancellationCode', 'CarrierDelay','WeatherDelay','NASDelay','SecurityDelay','LateAircraftDelay'], axis = 1)\n"
   ]
  },
  {
   "cell_type": "markdown",
   "metadata": {},
   "source": [
    "Now after removing some columsn compeltely, we can remove the rest rows with missing vlaues to clean our data."
   ]
  },
  {
   "cell_type": "code",
   "execution_count": 9,
   "metadata": {},
   "outputs": [],
   "source": [
    "Df1997Clean = Df1997.dropna()\n",
    "Df1998Clean = Df1998.dropna()\n",
    "Df1999Clean = Df1999.dropna()"
   ]
  },
  {
   "cell_type": "code",
   "execution_count": 10,
   "metadata": {},
   "outputs": [],
   "source": [
    "Totall1997 = len(Df1997Clean)"
   ]
  },
  {
   "cell_type": "code",
   "execution_count": 11,
   "metadata": {},
   "outputs": [],
   "source": [
    "Totall1998 = len(Df1998Clean)"
   ]
  },
  {
   "cell_type": "code",
   "execution_count": 12,
   "metadata": {},
   "outputs": [],
   "source": [
    "Totall1999 = len(Df1999Clean)"
   ]
  },
  {
   "cell_type": "code",
   "execution_count": 14,
   "metadata": {},
   "outputs": [],
   "source": [
    "data = pd.concat([Df1997Clean, Df1998Clean, Df1999Clean])"
   ]
  },
  {
   "cell_type": "markdown",
   "metadata": {},
   "source": [
    "### Best time of the Day, Month and Year to fly to minimize delays. "
   ]
  },
  {
   "cell_type": "code",
   "execution_count": 15,
   "metadata": {},
   "outputs": [],
   "source": [
    "dataArr = data[data['ArrDelay']<1]\n",
    "dataDep = data[data['DepDelay']<1]"
   ]
  },
  {
   "cell_type": "code",
   "execution_count": 16,
   "metadata": {},
   "outputs": [
    {
     "data": {
      "text/html": [
       "<div>\n",
       "<style scoped>\n",
       "    .dataframe tbody tr th:only-of-type {\n",
       "        vertical-align: middle;\n",
       "    }\n",
       "\n",
       "    .dataframe tbody tr th {\n",
       "        vertical-align: top;\n",
       "    }\n",
       "\n",
       "    .dataframe thead th {\n",
       "        text-align: right;\n",
       "    }\n",
       "</style>\n",
       "<table border=\"1\" class=\"dataframe\">\n",
       "  <thead>\n",
       "    <tr style=\"text-align: right;\">\n",
       "      <th></th>\n",
       "      <th>Year</th>\n",
       "      <th>Month</th>\n",
       "      <th>DayofMonth</th>\n",
       "      <th>DayOfWeek</th>\n",
       "      <th>DepTime</th>\n",
       "      <th>CRSDepTime</th>\n",
       "      <th>ArrTime</th>\n",
       "      <th>CRSArrTime</th>\n",
       "      <th>UniqueCarrier</th>\n",
       "      <th>FlightNum</th>\n",
       "      <th>...</th>\n",
       "      <th>AirTime</th>\n",
       "      <th>ArrDelay</th>\n",
       "      <th>DepDelay</th>\n",
       "      <th>Origin</th>\n",
       "      <th>Dest</th>\n",
       "      <th>Distance</th>\n",
       "      <th>TaxiIn</th>\n",
       "      <th>TaxiOut</th>\n",
       "      <th>Cancelled</th>\n",
       "      <th>Diverted</th>\n",
       "    </tr>\n",
       "  </thead>\n",
       "  <tbody>\n",
       "    <tr>\n",
       "      <th>5</th>\n",
       "      <td>1997</td>\n",
       "      <td>1</td>\n",
       "      <td>1</td>\n",
       "      <td>3</td>\n",
       "      <td>1029.0</td>\n",
       "      <td>1020</td>\n",
       "      <td>1127.0</td>\n",
       "      <td>1130</td>\n",
       "      <td>WN</td>\n",
       "      <td>1293</td>\n",
       "      <td>...</td>\n",
       "      <td>52.0</td>\n",
       "      <td>-3.0</td>\n",
       "      <td>9.0</td>\n",
       "      <td>ABQ</td>\n",
       "      <td>PHX</td>\n",
       "      <td>328</td>\n",
       "      <td>2</td>\n",
       "      <td>4</td>\n",
       "      <td>0</td>\n",
       "      <td>0</td>\n",
       "    </tr>\n",
       "    <tr>\n",
       "      <th>6</th>\n",
       "      <td>1997</td>\n",
       "      <td>1</td>\n",
       "      <td>2</td>\n",
       "      <td>4</td>\n",
       "      <td>1020.0</td>\n",
       "      <td>1020</td>\n",
       "      <td>1130.0</td>\n",
       "      <td>1130</td>\n",
       "      <td>WN</td>\n",
       "      <td>1293</td>\n",
       "      <td>...</td>\n",
       "      <td>57.0</td>\n",
       "      <td>0.0</td>\n",
       "      <td>0.0</td>\n",
       "      <td>ABQ</td>\n",
       "      <td>PHX</td>\n",
       "      <td>328</td>\n",
       "      <td>7</td>\n",
       "      <td>6</td>\n",
       "      <td>0</td>\n",
       "      <td>0</td>\n",
       "    </tr>\n",
       "    <tr>\n",
       "      <th>10</th>\n",
       "      <td>1997</td>\n",
       "      <td>1</td>\n",
       "      <td>7</td>\n",
       "      <td>2</td>\n",
       "      <td>1020.0</td>\n",
       "      <td>1020</td>\n",
       "      <td>1123.0</td>\n",
       "      <td>1130</td>\n",
       "      <td>WN</td>\n",
       "      <td>1293</td>\n",
       "      <td>...</td>\n",
       "      <td>56.0</td>\n",
       "      <td>-7.0</td>\n",
       "      <td>0.0</td>\n",
       "      <td>ABQ</td>\n",
       "      <td>PHX</td>\n",
       "      <td>328</td>\n",
       "      <td>2</td>\n",
       "      <td>5</td>\n",
       "      <td>0</td>\n",
       "      <td>0</td>\n",
       "    </tr>\n",
       "    <tr>\n",
       "      <th>12</th>\n",
       "      <td>1997</td>\n",
       "      <td>1</td>\n",
       "      <td>9</td>\n",
       "      <td>4</td>\n",
       "      <td>1020.0</td>\n",
       "      <td>1020</td>\n",
       "      <td>1130.0</td>\n",
       "      <td>1130</td>\n",
       "      <td>WN</td>\n",
       "      <td>1293</td>\n",
       "      <td>...</td>\n",
       "      <td>59.0</td>\n",
       "      <td>0.0</td>\n",
       "      <td>0.0</td>\n",
       "      <td>ABQ</td>\n",
       "      <td>PHX</td>\n",
       "      <td>328</td>\n",
       "      <td>3</td>\n",
       "      <td>8</td>\n",
       "      <td>0</td>\n",
       "      <td>0</td>\n",
       "    </tr>\n",
       "    <tr>\n",
       "      <th>13</th>\n",
       "      <td>1997</td>\n",
       "      <td>1</td>\n",
       "      <td>10</td>\n",
       "      <td>5</td>\n",
       "      <td>1020.0</td>\n",
       "      <td>1020</td>\n",
       "      <td>1123.0</td>\n",
       "      <td>1130</td>\n",
       "      <td>WN</td>\n",
       "      <td>1293</td>\n",
       "      <td>...</td>\n",
       "      <td>56.0</td>\n",
       "      <td>-7.0</td>\n",
       "      <td>0.0</td>\n",
       "      <td>ABQ</td>\n",
       "      <td>PHX</td>\n",
       "      <td>328</td>\n",
       "      <td>2</td>\n",
       "      <td>5</td>\n",
       "      <td>0</td>\n",
       "      <td>0</td>\n",
       "    </tr>\n",
       "  </tbody>\n",
       "</table>\n",
       "<p>5 rows × 23 columns</p>\n",
       "</div>"
      ],
      "text/plain": [
       "    Year  Month  DayofMonth  DayOfWeek  DepTime  CRSDepTime  ArrTime  \\\n",
       "5   1997      1           1          3   1029.0        1020   1127.0   \n",
       "6   1997      1           2          4   1020.0        1020   1130.0   \n",
       "10  1997      1           7          2   1020.0        1020   1123.0   \n",
       "12  1997      1           9          4   1020.0        1020   1130.0   \n",
       "13  1997      1          10          5   1020.0        1020   1123.0   \n",
       "\n",
       "    CRSArrTime UniqueCarrier  FlightNum  ... AirTime  ArrDelay  DepDelay  \\\n",
       "5         1130            WN       1293  ...    52.0      -3.0       9.0   \n",
       "6         1130            WN       1293  ...    57.0       0.0       0.0   \n",
       "10        1130            WN       1293  ...    56.0      -7.0       0.0   \n",
       "12        1130            WN       1293  ...    59.0       0.0       0.0   \n",
       "13        1130            WN       1293  ...    56.0      -7.0       0.0   \n",
       "\n",
       "    Origin  Dest  Distance TaxiIn TaxiOut  Cancelled  Diverted  \n",
       "5      ABQ   PHX       328      2       4          0         0  \n",
       "6      ABQ   PHX       328      7       6          0         0  \n",
       "10     ABQ   PHX       328      2       5          0         0  \n",
       "12     ABQ   PHX       328      3       8          0         0  \n",
       "13     ABQ   PHX       328      2       5          0         0  \n",
       "\n",
       "[5 rows x 23 columns]"
      ]
     },
     "execution_count": 16,
     "metadata": {},
     "output_type": "execute_result"
    }
   ],
   "source": [
    "dataArr.head()"
   ]
  },
  {
   "cell_type": "code",
   "execution_count": 17,
   "metadata": {},
   "outputs": [
    {
     "data": {
      "text/plain": [
       "array([ 1,  2,  3,  4,  5,  6,  7,  8,  9, 10, 11, 12], dtype=int64)"
      ]
     },
     "execution_count": 17,
     "metadata": {},
     "output_type": "execute_result"
    }
   ],
   "source": [
    "dataArr['Month'].unique()"
   ]
  },
  {
   "cell_type": "code",
   "execution_count": 18,
   "metadata": {},
   "outputs": [
    {
     "data": {
      "image/png": "[encoded data removed]",
      "text/plain": [
       "<Figure size 720x360 with 1 Axes>"
      ]
     },
     "metadata": {
      "needs_background": "light"
     },
     "output_type": "display_data"
    }
   ],
   "source": [
    "plt.figure(figsize= (10,5))\n",
    "bins = np.arange(14) - 0.5\n",
    "plt.hist(dataArr['Month'], bins, rwidth = 0.8, color = 'green', edgecolor = 'black')\n",
    "plt.xticks(range(13))\n",
    "plt.title(\"Number of Flight Arrived on time in each month\")\n",
    "plt.xlabel(\"Months\")\n",
    "plt.ylabel(\"Number of flights\")\n",
    "plt.xlim([0, 13])\n",
    "plt.show()"
   ]
  },
  {
   "cell_type": "markdown",
   "metadata": {},
   "source": [
    "The best months of the year for flight to avoid delay are May and September. "
   ]
  },
  {
   "cell_type": "code",
   "execution_count": 19,
   "metadata": {},
   "outputs": [
    {
     "data": {
      "image/png": "[encoded data removed]",
      "text/plain": [
       "<Figure size 720x360 with 1 Axes>"
      ]
     },
     "metadata": {
      "needs_background": "light"
     },
     "output_type": "display_data"
    }
   ],
   "source": [
    "plt.figure(figsize= (10,5))\n",
    "bins = np.arange(14) - 0.5\n",
    "plt.hist(dataDep['Month'], bins, rwidth = 0.8, color = 'green', edgecolor = 'black')\n",
    "plt.xticks(range(13))\n",
    "plt.title(\"Number of Flight Departed on time in each month\")\n",
    "plt.xlabel(\"Months\")\n",
    "plt.ylabel(\"Number of flights\")\n",
    "plt.xlim([0, 13])\n",
    "plt.show()"
   ]
  },
  {
   "cell_type": "markdown",
   "metadata": {},
   "source": [
    "Again in term of Departure point of view, the best months of the year for flight to avoid delay are May, September and October.\n",
    "\n",
    "\n",
    "### Best Day of Week"
   ]
  },
  {
   "cell_type": "code",
   "execution_count": 20,
   "metadata": {},
   "outputs": [
    {
     "data": {
      "image/png": "[encoded data removed]",
      "text/plain": [
       "<Figure size 720x360 with 1 Axes>"
      ]
     },
     "metadata": {
      "needs_background": "light"
     },
     "output_type": "display_data"
    }
   ],
   "source": [
    "plt.figure(figsize= (10,5))\n",
    "bins = np.arange(9) - 0.5\n",
    "plt.hist(dataArr['DayOfWeek'], bins, rwidth = 0.7, color = 'green', edgecolor = 'black')\n",
    "plt.xticks(range(8))\n",
    "plt.title(\"Number of Flight Arrived on time in each Week\")\n",
    "plt.xlabel(\"Day of Week\")\n",
    "plt.ylabel(\"Number of flights\")\n",
    "plt.xlim([0, 8])\n",
    "plt.show()"
   ]
  },
  {
   "cell_type": "markdown",
   "metadata": {},
   "source": [
    "The best day of week is Tuesday. "
   ]
  },
  {
   "cell_type": "code",
   "execution_count": 21,
   "metadata": {},
   "outputs": [
    {
     "data": {
      "image/png": "[encoded data removed]",
      "text/plain": [
       "<Figure size 720x360 with 1 Axes>"
      ]
     },
     "metadata": {},
     "output_type": "display_data"
    }
   ],
   "source": [
    "def label_function(val):\n",
    "    return f'{val / 100 * len(dataArr):.0f}\\n{val:.2f}%'\n",
    "\n",
    "colors = cm.inferno_r(np.linspace(.5, .1, 7))\n",
    "fig, (ax1) = plt.subplots(ncols=1, figsize=(10, 5))\n",
    "dataArr.groupby('DayOfWeek').size().plot(kind='pie', autopct=label_function, textprops={'fontsize': 9},\n",
    "                                  colors=colors, ax=ax1)\n",
    "ax1.set_ylabel('Number of Fligths', size=13)\n",
    "ax1.set_title(\"Number of Flight Arrived on time in each Week\")\n",
    "plt.tight_layout()\n",
    "plt.show()"
   ]
  },
  {
   "cell_type": "markdown",
   "metadata": {},
   "source": [
    "### Best day of the month. "
   ]
  },
  {
   "cell_type": "code",
   "execution_count": 22,
   "metadata": {},
   "outputs": [
    {
     "data": {
      "image/png": "[encoded data removed]",
      "text/plain": [
       "<Figure size 1080x504 with 1 Axes>"
      ]
     },
     "metadata": {
      "needs_background": "light"
     },
     "output_type": "display_data"
    }
   ],
   "source": [
    "plt.figure(figsize= (15,7))\n",
    "bins = np.arange(33) - 0.5\n",
    "plt.hist(dataArr['DayofMonth'], bins, rwidth = 0.6, color = 'silver', edgecolor = 'black')\n",
    "plt.xticks(range(32))\n",
    "plt.title(\"Number of Flight Arrived on time in each day of month\")\n",
    "plt.xlabel(\"Day in Month\")\n",
    "plt.ylabel(\"Number of flights\")\n",
    "plt.xlim([0, 32])\n",
    "plt.minorticks_on()\n",
    "plt.grid(axis = 'y', which = 'minor', alpha = 0.8)\n",
    "plt.grid(axis = 'y', which = 'major', alpha = 0.8)\n",
    "plt.show()"
   ]
  },
  {
   "cell_type": "markdown",
   "metadata": {},
   "source": [
    "## Do older planes suffer more delays?"
   ]
  },
  {
   "cell_type": "code",
   "execution_count": 23,
   "metadata": {},
   "outputs": [
    {
     "data": {
      "text/html": [
       "<div>\n",
       "<style scoped>\n",
       "    .dataframe tbody tr th:only-of-type {\n",
       "        vertical-align: middle;\n",
       "    }\n",
       "\n",
       "    .dataframe tbody tr th {\n",
       "        vertical-align: top;\n",
       "    }\n",
       "\n",
       "    .dataframe thead th {\n",
       "        text-align: right;\n",
       "    }\n",
       "</style>\n",
       "<table border=\"1\" class=\"dataframe\">\n",
       "  <thead>\n",
       "    <tr style=\"text-align: right;\">\n",
       "      <th></th>\n",
       "      <th>Year</th>\n",
       "      <th>Month</th>\n",
       "      <th>DayofMonth</th>\n",
       "      <th>DayOfWeek</th>\n",
       "      <th>DepTime</th>\n",
       "      <th>CRSDepTime</th>\n",
       "      <th>ArrTime</th>\n",
       "      <th>CRSArrTime</th>\n",
       "      <th>UniqueCarrier</th>\n",
       "      <th>FlightNum</th>\n",
       "      <th>...</th>\n",
       "      <th>AirTime</th>\n",
       "      <th>ArrDelay</th>\n",
       "      <th>DepDelay</th>\n",
       "      <th>Origin</th>\n",
       "      <th>Dest</th>\n",
       "      <th>Distance</th>\n",
       "      <th>TaxiIn</th>\n",
       "      <th>TaxiOut</th>\n",
       "      <th>Cancelled</th>\n",
       "      <th>Diverted</th>\n",
       "    </tr>\n",
       "  </thead>\n",
       "  <tbody>\n",
       "    <tr>\n",
       "      <th>5</th>\n",
       "      <td>1997</td>\n",
       "      <td>1</td>\n",
       "      <td>1</td>\n",
       "      <td>3</td>\n",
       "      <td>1029.0</td>\n",
       "      <td>1020</td>\n",
       "      <td>1127.0</td>\n",
       "      <td>1130</td>\n",
       "      <td>WN</td>\n",
       "      <td>1293</td>\n",
       "      <td>...</td>\n",
       "      <td>52.0</td>\n",
       "      <td>-3.0</td>\n",
       "      <td>9.0</td>\n",
       "      <td>ABQ</td>\n",
       "      <td>PHX</td>\n",
       "      <td>328</td>\n",
       "      <td>2</td>\n",
       "      <td>4</td>\n",
       "      <td>0</td>\n",
       "      <td>0</td>\n",
       "    </tr>\n",
       "    <tr>\n",
       "      <th>6</th>\n",
       "      <td>1997</td>\n",
       "      <td>1</td>\n",
       "      <td>2</td>\n",
       "      <td>4</td>\n",
       "      <td>1020.0</td>\n",
       "      <td>1020</td>\n",
       "      <td>1130.0</td>\n",
       "      <td>1130</td>\n",
       "      <td>WN</td>\n",
       "      <td>1293</td>\n",
       "      <td>...</td>\n",
       "      <td>57.0</td>\n",
       "      <td>0.0</td>\n",
       "      <td>0.0</td>\n",
       "      <td>ABQ</td>\n",
       "      <td>PHX</td>\n",
       "      <td>328</td>\n",
       "      <td>7</td>\n",
       "      <td>6</td>\n",
       "      <td>0</td>\n",
       "      <td>0</td>\n",
       "    </tr>\n",
       "    <tr>\n",
       "      <th>10</th>\n",
       "      <td>1997</td>\n",
       "      <td>1</td>\n",
       "      <td>7</td>\n",
       "      <td>2</td>\n",
       "      <td>1020.0</td>\n",
       "      <td>1020</td>\n",
       "      <td>1123.0</td>\n",
       "      <td>1130</td>\n",
       "      <td>WN</td>\n",
       "      <td>1293</td>\n",
       "      <td>...</td>\n",
       "      <td>56.0</td>\n",
       "      <td>-7.0</td>\n",
       "      <td>0.0</td>\n",
       "      <td>ABQ</td>\n",
       "      <td>PHX</td>\n",
       "      <td>328</td>\n",
       "      <td>2</td>\n",
       "      <td>5</td>\n",
       "      <td>0</td>\n",
       "      <td>0</td>\n",
       "    </tr>\n",
       "    <tr>\n",
       "      <th>12</th>\n",
       "      <td>1997</td>\n",
       "      <td>1</td>\n",
       "      <td>9</td>\n",
       "      <td>4</td>\n",
       "      <td>1020.0</td>\n",
       "      <td>1020</td>\n",
       "      <td>1130.0</td>\n",
       "      <td>1130</td>\n",
       "      <td>WN</td>\n",
       "      <td>1293</td>\n",
       "      <td>...</td>\n",
       "      <td>59.0</td>\n",
       "      <td>0.0</td>\n",
       "      <td>0.0</td>\n",
       "      <td>ABQ</td>\n",
       "      <td>PHX</td>\n",
       "      <td>328</td>\n",
       "      <td>3</td>\n",
       "      <td>8</td>\n",
       "      <td>0</td>\n",
       "      <td>0</td>\n",
       "    </tr>\n",
       "    <tr>\n",
       "      <th>13</th>\n",
       "      <td>1997</td>\n",
       "      <td>1</td>\n",
       "      <td>10</td>\n",
       "      <td>5</td>\n",
       "      <td>1020.0</td>\n",
       "      <td>1020</td>\n",
       "      <td>1123.0</td>\n",
       "      <td>1130</td>\n",
       "      <td>WN</td>\n",
       "      <td>1293</td>\n",
       "      <td>...</td>\n",
       "      <td>56.0</td>\n",
       "      <td>-7.0</td>\n",
       "      <td>0.0</td>\n",
       "      <td>ABQ</td>\n",
       "      <td>PHX</td>\n",
       "      <td>328</td>\n",
       "      <td>2</td>\n",
       "      <td>5</td>\n",
       "      <td>0</td>\n",
       "      <td>0</td>\n",
       "    </tr>\n",
       "    <tr>\n",
       "      <th>...</th>\n",
       "      <td>...</td>\n",
       "      <td>...</td>\n",
       "      <td>...</td>\n",
       "      <td>...</td>\n",
       "      <td>...</td>\n",
       "      <td>...</td>\n",
       "      <td>...</td>\n",
       "      <td>...</td>\n",
       "      <td>...</td>\n",
       "      <td>...</td>\n",
       "      <td>...</td>\n",
       "      <td>...</td>\n",
       "      <td>...</td>\n",
       "      <td>...</td>\n",
       "      <td>...</td>\n",
       "      <td>...</td>\n",
       "      <td>...</td>\n",
       "      <td>...</td>\n",
       "      <td>...</td>\n",
       "      <td>...</td>\n",
       "      <td>...</td>\n",
       "    </tr>\n",
       "    <tr>\n",
       "      <th>5527878</th>\n",
       "      <td>1999</td>\n",
       "      <td>12</td>\n",
       "      <td>15</td>\n",
       "      <td>3</td>\n",
       "      <td>1912.0</td>\n",
       "      <td>1918</td>\n",
       "      <td>2117.0</td>\n",
       "      <td>2129</td>\n",
       "      <td>AA</td>\n",
       "      <td>1359</td>\n",
       "      <td>...</td>\n",
       "      <td>106.0</td>\n",
       "      <td>-12.0</td>\n",
       "      <td>-6.0</td>\n",
       "      <td>BNA</td>\n",
       "      <td>DFW</td>\n",
       "      <td>631</td>\n",
       "      <td>13</td>\n",
       "      <td>6</td>\n",
       "      <td>0</td>\n",
       "      <td>0</td>\n",
       "    </tr>\n",
       "    <tr>\n",
       "      <th>5527879</th>\n",
       "      <td>1999</td>\n",
       "      <td>12</td>\n",
       "      <td>16</td>\n",
       "      <td>4</td>\n",
       "      <td>1910.0</td>\n",
       "      <td>1910</td>\n",
       "      <td>2112.0</td>\n",
       "      <td>2117</td>\n",
       "      <td>AA</td>\n",
       "      <td>1359</td>\n",
       "      <td>...</td>\n",
       "      <td>96.0</td>\n",
       "      <td>-5.0</td>\n",
       "      <td>0.0</td>\n",
       "      <td>BNA</td>\n",
       "      <td>DFW</td>\n",
       "      <td>631</td>\n",
       "      <td>14</td>\n",
       "      <td>12</td>\n",
       "      <td>0</td>\n",
       "      <td>0</td>\n",
       "    </tr>\n",
       "    <tr>\n",
       "      <th>5527880</th>\n",
       "      <td>1999</td>\n",
       "      <td>12</td>\n",
       "      <td>17</td>\n",
       "      <td>5</td>\n",
       "      <td>1909.0</td>\n",
       "      <td>1910</td>\n",
       "      <td>2111.0</td>\n",
       "      <td>2117</td>\n",
       "      <td>AA</td>\n",
       "      <td>1359</td>\n",
       "      <td>...</td>\n",
       "      <td>97.0</td>\n",
       "      <td>-6.0</td>\n",
       "      <td>-1.0</td>\n",
       "      <td>BNA</td>\n",
       "      <td>DFW</td>\n",
       "      <td>631</td>\n",
       "      <td>10</td>\n",
       "      <td>15</td>\n",
       "      <td>0</td>\n",
       "      <td>0</td>\n",
       "    </tr>\n",
       "    <tr>\n",
       "      <th>5527881</th>\n",
       "      <td>1999</td>\n",
       "      <td>12</td>\n",
       "      <td>18</td>\n",
       "      <td>6</td>\n",
       "      <td>1907.0</td>\n",
       "      <td>1910</td>\n",
       "      <td>2103.0</td>\n",
       "      <td>2117</td>\n",
       "      <td>AA</td>\n",
       "      <td>1359</td>\n",
       "      <td>...</td>\n",
       "      <td>95.0</td>\n",
       "      <td>-14.0</td>\n",
       "      <td>-3.0</td>\n",
       "      <td>BNA</td>\n",
       "      <td>DFW</td>\n",
       "      <td>631</td>\n",
       "      <td>12</td>\n",
       "      <td>9</td>\n",
       "      <td>0</td>\n",
       "      <td>0</td>\n",
       "    </tr>\n",
       "    <tr>\n",
       "      <th>5527882</th>\n",
       "      <td>1999</td>\n",
       "      <td>12</td>\n",
       "      <td>19</td>\n",
       "      <td>7</td>\n",
       "      <td>1907.0</td>\n",
       "      <td>1910</td>\n",
       "      <td>2114.0</td>\n",
       "      <td>2117</td>\n",
       "      <td>AA</td>\n",
       "      <td>1359</td>\n",
       "      <td>...</td>\n",
       "      <td>103.0</td>\n",
       "      <td>-3.0</td>\n",
       "      <td>-3.0</td>\n",
       "      <td>BNA</td>\n",
       "      <td>DFW</td>\n",
       "      <td>631</td>\n",
       "      <td>11</td>\n",
       "      <td>13</td>\n",
       "      <td>0</td>\n",
       "      <td>0</td>\n",
       "    </tr>\n",
       "  </tbody>\n",
       "</table>\n",
       "<p>8073428 rows × 23 columns</p>\n",
       "</div>"
      ],
      "text/plain": [
       "         Year  Month  DayofMonth  DayOfWeek  DepTime  CRSDepTime  ArrTime  \\\n",
       "5        1997      1           1          3   1029.0        1020   1127.0   \n",
       "6        1997      1           2          4   1020.0        1020   1130.0   \n",
       "10       1997      1           7          2   1020.0        1020   1123.0   \n",
       "12       1997      1           9          4   1020.0        1020   1130.0   \n",
       "13       1997      1          10          5   1020.0        1020   1123.0   \n",
       "...       ...    ...         ...        ...      ...         ...      ...   \n",
       "5527878  1999     12          15          3   1912.0        1918   2117.0   \n",
       "5527879  1999     12          16          4   1910.0        1910   2112.0   \n",
       "5527880  1999     12          17          5   1909.0        1910   2111.0   \n",
       "5527881  1999     12          18          6   1907.0        1910   2103.0   \n",
       "5527882  1999     12          19          7   1907.0        1910   2114.0   \n",
       "\n",
       "         CRSArrTime UniqueCarrier  FlightNum  ... AirTime  ArrDelay  DepDelay  \\\n",
       "5              1130            WN       1293  ...    52.0      -3.0       9.0   \n",
       "6              1130            WN       1293  ...    57.0       0.0       0.0   \n",
       "10             1130            WN       1293  ...    56.0      -7.0       0.0   \n",
       "12             1130            WN       1293  ...    59.0       0.0       0.0   \n",
       "13             1130            WN       1293  ...    56.0      -7.0       0.0   \n",
       "...             ...           ...        ...  ...     ...       ...       ...   \n",
       "5527878        2129            AA       1359  ...   106.0     -12.0      -6.0   \n",
       "5527879        2117            AA       1359  ...    96.0      -5.0       0.0   \n",
       "5527880        2117            AA       1359  ...    97.0      -6.0      -1.0   \n",
       "5527881        2117            AA       1359  ...    95.0     -14.0      -3.0   \n",
       "5527882        2117            AA       1359  ...   103.0      -3.0      -3.0   \n",
       "\n",
       "         Origin  Dest  Distance TaxiIn TaxiOut  Cancelled  Diverted  \n",
       "5           ABQ   PHX       328      2       4          0         0  \n",
       "6           ABQ   PHX       328      7       6          0         0  \n",
       "10          ABQ   PHX       328      2       5          0         0  \n",
       "12          ABQ   PHX       328      3       8          0         0  \n",
       "13          ABQ   PHX       328      2       5          0         0  \n",
       "...         ...   ...       ...    ...     ...        ...       ...  \n",
       "5527878     BNA   DFW       631     13       6          0         0  \n",
       "5527879     BNA   DFW       631     14      12          0         0  \n",
       "5527880     BNA   DFW       631     10      15          0         0  \n",
       "5527881     BNA   DFW       631     12       9          0         0  \n",
       "5527882     BNA   DFW       631     11      13          0         0  \n",
       "\n",
       "[8073428 rows x 23 columns]"
      ]
     },
     "execution_count": 23,
     "metadata": {},
     "output_type": "execute_result"
    }
   ],
   "source": [
    "dataArr"
   ]
  },
  {
   "cell_type": "code",
   "execution_count": 24,
   "metadata": {},
   "outputs": [],
   "source": [
    "onTime1997 = len(dataArr[dataArr['Year']==1997])\n",
    "onTime1998 = len(dataArr[dataArr['Year']==1998])\n",
    "onTime1999 = len(dataArr[dataArr['Year']==1999])"
   ]
  },
  {
   "cell_type": "code",
   "execution_count": 25,
   "metadata": {},
   "outputs": [
    {
     "data": {
      "text/plain": [
       "51.17707491080251"
      ]
     },
     "execution_count": 25,
     "metadata": {},
     "output_type": "execute_result"
    }
   ],
   "source": [
    "Delay1997 = Totall1997 - onTime1997\n",
    "DelayPercentage1997 = (Delay1997/Totall1997)*100\n",
    "DelayPercentage1997"
   ]
  },
  {
   "cell_type": "code",
   "execution_count": 26,
   "metadata": {},
   "outputs": [
    {
     "data": {
      "text/plain": [
       "48.05935507420915"
      ]
     },
     "execution_count": 26,
     "metadata": {},
     "output_type": "execute_result"
    }
   ],
   "source": [
    "Delay1998 = Totall1998 - onTime1998\n",
    "DelayPercentage1998 = (Delay1998/Totall1998)*100\n",
    "DelayPercentage1998"
   ]
  },
  {
   "cell_type": "code",
   "execution_count": 27,
   "metadata": {},
   "outputs": [
    {
     "data": {
      "text/plain": [
       "48.32343846606486"
      ]
     },
     "execution_count": 27,
     "metadata": {},
     "output_type": "execute_result"
    }
   ],
   "source": [
    "Delay1999 = Totall1999 - onTime1999\n",
    "DelayPercentage1999 = (Delay1999/Totall1999)*100\n",
    "DelayPercentage1999"
   ]
  },
  {
   "cell_type": "markdown",
   "metadata": {},
   "source": [
    "The percentage of flight delayed in 1997 is 51% while for other two years that is 1998 and 1999 are below 50%. It shows that older planes suffer more delays then newer. Furthermore, here delay means a plane didn't reach to its destination in scheduled time. If a plane delayed for one mint is also considered as delayed plane. It is the reason that this percentage is qiute high as compare to others. "
   ]
  },
  {
   "cell_type": "markdown",
   "metadata": {},
   "source": [
    "## How does the number of people flying between different locations change over time?"
   ]
  },
  {
   "cell_type": "code",
   "execution_count": 28,
   "metadata": {},
   "outputs": [
    {
     "data": {
      "text/plain": [
       "['ORD', 'ATL', 'DFW', 'LAX', 'STL', 'PHX', 'DTW', 'SFO', 'MSP', 'DEN']"
      ]
     },
     "execution_count": 28,
     "metadata": {},
     "output_type": "execute_result"
    }
   ],
   "source": [
    "Df1997Clean['Origin'].value_counts()[:10].index.tolist() "
   ]
  },
  {
   "cell_type": "code",
   "execution_count": 29,
   "metadata": {},
   "outputs": [
    {
     "data": {
      "text/plain": [
       "['ORD', 'ATL', 'DFW', 'LAX', 'STL', 'PHX', 'DTW', 'DEN', 'SFO', 'MSP']"
      ]
     },
     "execution_count": 29,
     "metadata": {},
     "output_type": "execute_result"
    }
   ],
   "source": [
    "Df1998Clean['Origin'].value_counts()[:10].index.tolist() "
   ]
  },
  {
   "cell_type": "code",
   "execution_count": 30,
   "metadata": {},
   "outputs": [
    {
     "data": {
      "text/plain": [
       "['ORD', 'ATL', 'DFW', 'LAX', 'PHX', 'STL', 'DTW', 'MSP', 'DEN', 'SFO']"
      ]
     },
     "execution_count": 30,
     "metadata": {},
     "output_type": "execute_result"
    }
   ],
   "source": [
    "Df1999Clean['Origin'].value_counts()[:10].index.tolist() "
   ]
  },
  {
   "cell_type": "markdown",
   "metadata": {},
   "source": [
    "Above are the origin of flights that are most repeted. These are the top ten most repetited origin arrange in decending order. In the start names, there are no difference, but in fifth place in 1999, PHX repeted more than STL. Similarly, the eight place origin is different for all three years. In 1997, the SFP are at eight place, while DEN for 1998, and MSP is for 1999. "
   ]
  },
  {
   "cell_type": "code",
   "execution_count": 31,
   "metadata": {},
   "outputs": [
    {
     "data": {
      "text/plain": [
       "['ORD', 'ATL', 'DFW', 'LAX', 'STL', 'PHX', 'DTW', 'SFO', 'MSP', 'DEN']"
      ]
     },
     "execution_count": 31,
     "metadata": {},
     "output_type": "execute_result"
    }
   ],
   "source": [
    "Df1997Clean['Dest'].value_counts()[:10].index.tolist() "
   ]
  },
  {
   "cell_type": "code",
   "execution_count": 32,
   "metadata": {},
   "outputs": [
    {
     "data": {
      "text/plain": [
       "['ORD', 'ATL', 'DFW', 'LAX', 'STL', 'PHX', 'DTW', 'DEN', 'SFO', 'MSP']"
      ]
     },
     "execution_count": 32,
     "metadata": {},
     "output_type": "execute_result"
    }
   ],
   "source": [
    "Df1998Clean['Dest'].value_counts()[:10].index.tolist() "
   ]
  },
  {
   "cell_type": "code",
   "execution_count": 33,
   "metadata": {},
   "outputs": [
    {
     "data": {
      "text/plain": [
       "['ORD', 'ATL', 'DFW', 'LAX', 'PHX', 'STL', 'DTW', 'MSP', 'DEN', 'SFO']"
      ]
     },
     "execution_count": 33,
     "metadata": {},
     "output_type": "execute_result"
    }
   ],
   "source": [
    "Df1999Clean['Dest'].value_counts()[:10].index.tolist() "
   ]
  },
  {
   "cell_type": "markdown",
   "metadata": {},
   "source": [
    "In destination point of view, the most repited in all three years is ORD. It goes same in all three years but there is a differnt in fifth place. In 1999, it is PHX unlike STL in 1997 and 1998. Similarly, the eight most repeted destination in 1997 is SFO, but in 1998 it is DEN and in 1999, it is MSP. "
   ]
  },
  {
   "cell_type": "markdown",
   "metadata": {},
   "source": [
    "## Can you detect cascading failures as delays in one airport create delays in others?"
   ]
  },
  {
   "cell_type": "markdown",
   "metadata": {},
   "source": [
    "To know the cascading failures as delays in one airport create delays in others, we will check anyone of the three given years. For the purpose of this question we will take 1998 dataset. "
   ]
  },
  {
   "cell_type": "code",
   "execution_count": 34,
   "metadata": {},
   "outputs": [
    {
     "data": {
      "text/html": [
       "<div>\n",
       "<style scoped>\n",
       "    .dataframe tbody tr th:only-of-type {\n",
       "        vertical-align: middle;\n",
       "    }\n",
       "\n",
       "    .dataframe tbody tr th {\n",
       "        vertical-align: top;\n",
       "    }\n",
       "\n",
       "    .dataframe thead th {\n",
       "        text-align: right;\n",
       "    }\n",
       "</style>\n",
       "<table border=\"1\" class=\"dataframe\">\n",
       "  <thead>\n",
       "    <tr style=\"text-align: right;\">\n",
       "      <th></th>\n",
       "      <th>Year</th>\n",
       "      <th>Month</th>\n",
       "      <th>DayofMonth</th>\n",
       "      <th>DayOfWeek</th>\n",
       "      <th>DepTime</th>\n",
       "      <th>CRSDepTime</th>\n",
       "      <th>ArrTime</th>\n",
       "      <th>CRSArrTime</th>\n",
       "      <th>UniqueCarrier</th>\n",
       "      <th>FlightNum</th>\n",
       "      <th>...</th>\n",
       "      <th>AirTime</th>\n",
       "      <th>ArrDelay</th>\n",
       "      <th>DepDelay</th>\n",
       "      <th>Origin</th>\n",
       "      <th>Dest</th>\n",
       "      <th>Distance</th>\n",
       "      <th>TaxiIn</th>\n",
       "      <th>TaxiOut</th>\n",
       "      <th>Cancelled</th>\n",
       "      <th>Diverted</th>\n",
       "    </tr>\n",
       "  </thead>\n",
       "  <tbody>\n",
       "    <tr>\n",
       "      <th>8285</th>\n",
       "      <td>1998</td>\n",
       "      <td>1</td>\n",
       "      <td>1</td>\n",
       "      <td>4</td>\n",
       "      <td>2152.0</td>\n",
       "      <td>0</td>\n",
       "      <td>18.0</td>\n",
       "      <td>0</td>\n",
       "      <td>AA</td>\n",
       "      <td>483</td>\n",
       "      <td>...</td>\n",
       "      <td>194.0</td>\n",
       "      <td>-33.0</td>\n",
       "      <td>-3.0</td>\n",
       "      <td>ORD</td>\n",
       "      <td>PHX</td>\n",
       "      <td>1440</td>\n",
       "      <td>2</td>\n",
       "      <td>10</td>\n",
       "      <td>0</td>\n",
       "      <td>0</td>\n",
       "    </tr>\n",
       "    <tr>\n",
       "      <th>8286</th>\n",
       "      <td>1998</td>\n",
       "      <td>1</td>\n",
       "      <td>2</td>\n",
       "      <td>5</td>\n",
       "      <td>2155.0</td>\n",
       "      <td>0</td>\n",
       "      <td>36.0</td>\n",
       "      <td>0</td>\n",
       "      <td>AA</td>\n",
       "      <td>483</td>\n",
       "      <td>...</td>\n",
       "      <td>201.0</td>\n",
       "      <td>-15.0</td>\n",
       "      <td>0.0</td>\n",
       "      <td>ORD</td>\n",
       "      <td>PHX</td>\n",
       "      <td>1440</td>\n",
       "      <td>5</td>\n",
       "      <td>15</td>\n",
       "      <td>0</td>\n",
       "      <td>0</td>\n",
       "    </tr>\n",
       "    <tr>\n",
       "      <th>8287</th>\n",
       "      <td>1998</td>\n",
       "      <td>1</td>\n",
       "      <td>3</td>\n",
       "      <td>6</td>\n",
       "      <td>2216.0</td>\n",
       "      <td>0</td>\n",
       "      <td>51.0</td>\n",
       "      <td>0</td>\n",
       "      <td>AA</td>\n",
       "      <td>483</td>\n",
       "      <td>...</td>\n",
       "      <td>199.0</td>\n",
       "      <td>0.0</td>\n",
       "      <td>21.0</td>\n",
       "      <td>ORD</td>\n",
       "      <td>PHX</td>\n",
       "      <td>1440</td>\n",
       "      <td>5</td>\n",
       "      <td>11</td>\n",
       "      <td>0</td>\n",
       "      <td>0</td>\n",
       "    </tr>\n",
       "    <tr>\n",
       "      <th>8288</th>\n",
       "      <td>1998</td>\n",
       "      <td>1</td>\n",
       "      <td>4</td>\n",
       "      <td>7</td>\n",
       "      <td>2158.0</td>\n",
       "      <td>0</td>\n",
       "      <td>56.0</td>\n",
       "      <td>0</td>\n",
       "      <td>AA</td>\n",
       "      <td>483</td>\n",
       "      <td>...</td>\n",
       "      <td>210.0</td>\n",
       "      <td>5.0</td>\n",
       "      <td>3.0</td>\n",
       "      <td>ORD</td>\n",
       "      <td>PHX</td>\n",
       "      <td>1440</td>\n",
       "      <td>3</td>\n",
       "      <td>25</td>\n",
       "      <td>0</td>\n",
       "      <td>0</td>\n",
       "    </tr>\n",
       "    <tr>\n",
       "      <th>8289</th>\n",
       "      <td>1998</td>\n",
       "      <td>1</td>\n",
       "      <td>5</td>\n",
       "      <td>1</td>\n",
       "      <td>2218.0</td>\n",
       "      <td>0</td>\n",
       "      <td>134.0</td>\n",
       "      <td>0</td>\n",
       "      <td>AA</td>\n",
       "      <td>483</td>\n",
       "      <td>...</td>\n",
       "      <td>209.0</td>\n",
       "      <td>43.0</td>\n",
       "      <td>23.0</td>\n",
       "      <td>ORD</td>\n",
       "      <td>PHX</td>\n",
       "      <td>1440</td>\n",
       "      <td>4</td>\n",
       "      <td>43</td>\n",
       "      <td>0</td>\n",
       "      <td>0</td>\n",
       "    </tr>\n",
       "  </tbody>\n",
       "</table>\n",
       "<p>5 rows × 23 columns</p>\n",
       "</div>"
      ],
      "text/plain": [
       "      Year  Month  DayofMonth  DayOfWeek  DepTime  CRSDepTime  ArrTime  \\\n",
       "8285  1998      1           1          4   2152.0           0     18.0   \n",
       "8286  1998      1           2          5   2155.0           0     36.0   \n",
       "8287  1998      1           3          6   2216.0           0     51.0   \n",
       "8288  1998      1           4          7   2158.0           0     56.0   \n",
       "8289  1998      1           5          1   2218.0           0    134.0   \n",
       "\n",
       "      CRSArrTime UniqueCarrier  FlightNum  ... AirTime  ArrDelay  DepDelay  \\\n",
       "8285           0            AA        483  ...   194.0     -33.0      -3.0   \n",
       "8286           0            AA        483  ...   201.0     -15.0       0.0   \n",
       "8287           0            AA        483  ...   199.0       0.0      21.0   \n",
       "8288           0            AA        483  ...   210.0       5.0       3.0   \n",
       "8289           0            AA        483  ...   209.0      43.0      23.0   \n",
       "\n",
       "      Origin  Dest  Distance TaxiIn TaxiOut  Cancelled  Diverted  \n",
       "8285     ORD   PHX      1440      2      10          0         0  \n",
       "8286     ORD   PHX      1440      5      15          0         0  \n",
       "8287     ORD   PHX      1440      5      11          0         0  \n",
       "8288     ORD   PHX      1440      3      25          0         0  \n",
       "8289     ORD   PHX      1440      4      43          0         0  \n",
       "\n",
       "[5 rows x 23 columns]"
      ]
     },
     "execution_count": 34,
     "metadata": {},
     "output_type": "execute_result"
    }
   ],
   "source": [
    "Df1998CleanOriginORD = Df1998Clean[Df1998Clean['Origin']=='ORD']\n",
    "Df1998CleanOriginORD.head()"
   ]
  },
  {
   "cell_type": "code",
   "execution_count": 35,
   "metadata": {},
   "outputs": [
    {
     "data": {
      "text/plain": [
       "Year                   1998\n",
       "Month                     1\n",
       "DayofMonth                5\n",
       "DayOfWeek                 1\n",
       "DepTime              2218.0\n",
       "CRSDepTime                0\n",
       "ArrTime               134.0\n",
       "CRSArrTime                0\n",
       "UniqueCarrier            AA\n",
       "FlightNum               483\n",
       "TailNum              N454AA\n",
       "ActualElapsedTime     256.0\n",
       "CRSElapsedTime        236.0\n",
       "AirTime               209.0\n",
       "ArrDelay               43.0\n",
       "DepDelay               23.0\n",
       "Origin                  ORD\n",
       "Dest                    PHX\n",
       "Distance               1440\n",
       "TaxiIn                    4\n",
       "TaxiOut                  43\n",
       "Cancelled                 0\n",
       "Diverted                  0\n",
       "Name: 8289, dtype: object"
      ]
     },
     "execution_count": 35,
     "metadata": {},
     "output_type": "execute_result"
    }
   ],
   "source": [
    "Df1998CleanOriginORD.iloc[4]"
   ]
  },
  {
   "cell_type": "markdown",
   "metadata": {},
   "source": [
    "Here we can see that the tail number 'N454AA' of a flight departed 23 mint late from origin \"ORD\". Its is destination is \"PHX\". The arrival time was 22:18, but it is departure delayed upto 43 mint and arrival delayed upto 23 mint. Now we will check what is happening in PHX as Origin. "
   ]
  },
  {
   "cell_type": "code",
   "execution_count": 36,
   "metadata": {
    "scrolled": false
   },
   "outputs": [
    {
     "data": {
      "text/html": [
       "<div>\n",
       "<style scoped>\n",
       "    .dataframe tbody tr th:only-of-type {\n",
       "        vertical-align: middle;\n",
       "    }\n",
       "\n",
       "    .dataframe tbody tr th {\n",
       "        vertical-align: top;\n",
       "    }\n",
       "\n",
       "    .dataframe thead th {\n",
       "        text-align: right;\n",
       "    }\n",
       "</style>\n",
       "<table border=\"1\" class=\"dataframe\">\n",
       "  <thead>\n",
       "    <tr style=\"text-align: right;\">\n",
       "      <th></th>\n",
       "      <th>Year</th>\n",
       "      <th>Month</th>\n",
       "      <th>DayofMonth</th>\n",
       "      <th>DayOfWeek</th>\n",
       "      <th>DepTime</th>\n",
       "      <th>CRSDepTime</th>\n",
       "      <th>ArrTime</th>\n",
       "      <th>CRSArrTime</th>\n",
       "      <th>UniqueCarrier</th>\n",
       "      <th>FlightNum</th>\n",
       "      <th>...</th>\n",
       "      <th>AirTime</th>\n",
       "      <th>ArrDelay</th>\n",
       "      <th>DepDelay</th>\n",
       "      <th>Origin</th>\n",
       "      <th>Dest</th>\n",
       "      <th>Distance</th>\n",
       "      <th>TaxiIn</th>\n",
       "      <th>TaxiOut</th>\n",
       "      <th>Cancelled</th>\n",
       "      <th>Diverted</th>\n",
       "    </tr>\n",
       "  </thead>\n",
       "  <tbody>\n",
       "    <tr>\n",
       "      <th>38630</th>\n",
       "      <td>1998</td>\n",
       "      <td>1</td>\n",
       "      <td>6</td>\n",
       "      <td>2</td>\n",
       "      <td>149.0</td>\n",
       "      <td>135</td>\n",
       "      <td>147.0</td>\n",
       "      <td>142</td>\n",
       "      <td>TW</td>\n",
       "      <td>139</td>\n",
       "      <td>...</td>\n",
       "      <td>48.0</td>\n",
       "      <td>5.0</td>\n",
       "      <td>14.0</td>\n",
       "      <td>PHX</td>\n",
       "      <td>SAN</td>\n",
       "      <td>304</td>\n",
       "      <td>3</td>\n",
       "      <td>7</td>\n",
       "      <td>0</td>\n",
       "      <td>0</td>\n",
       "    </tr>\n",
       "  </tbody>\n",
       "</table>\n",
       "<p>1 rows × 23 columns</p>\n",
       "</div>"
      ],
      "text/plain": [
       "       Year  Month  DayofMonth  DayOfWeek  DepTime  CRSDepTime  ArrTime  \\\n",
       "38630  1998      1           6          2    149.0         135    147.0   \n",
       "\n",
       "       CRSArrTime UniqueCarrier  FlightNum  ... AirTime  ArrDelay  DepDelay  \\\n",
       "38630         142            TW        139  ...    48.0       5.0      14.0   \n",
       "\n",
       "       Origin  Dest  Distance TaxiIn TaxiOut  Cancelled  Diverted  \n",
       "38630     PHX   SAN       304      3       7          0         0  \n",
       "\n",
       "[1 rows x 23 columns]"
      ]
     },
     "execution_count": 36,
     "metadata": {},
     "output_type": "execute_result"
    }
   ],
   "source": [
    "Df1998CleanOriginPHX = Df1998Clean[Df1998Clean['Origin']=='PHX']\n",
    "Df1998CleanOriginPHX[(Df1998CleanOriginPHX['Month']==1) & (Df1998CleanOriginPHX['DayofMonth']==6) & (Df1998CleanOriginPHX['TailNum']=='N9304C')]"
   ]
  },
  {
   "cell_type": "markdown",
   "metadata": {},
   "source": [
    "Here at PHX, the delay occur to another flight with tail number \"N9304C\". It was sheduled to launch at 1:35, but it departed at 1:49. The late arrival of N454AA, causes N9304C become departed late from its scheduled time. "
   ]
  },
  {
   "cell_type": "markdown",
   "metadata": {},
   "source": [
    "### Use the available variables to construct a model that predicts delays"
   ]
  },
  {
   "cell_type": "code",
   "execution_count": 37,
   "metadata": {},
   "outputs": [],
   "source": [
    "from keras.models import Sequential\n",
    "from keras.layers import Dense\n",
    "from sklearn.model_selection import train_test_split\n",
    "from sklearn import metrics\n",
    "from sklearn.metrics import f1_score\n",
    "import seaborn as sn"
   ]
  },
  {
   "cell_type": "code",
   "execution_count": 38,
   "metadata": {},
   "outputs": [],
   "source": [
    "modelData = Df1997[['DepDelay', 'ActualElapsedTime', 'CRSElapsedTime', 'AirTime', 'Distance', 'TaxiIn', 'TaxiOut']]"
   ]
  },
  {
   "cell_type": "code",
   "execution_count": 39,
   "metadata": {},
   "outputs": [],
   "source": [
    "modelData = modelData.dropna(axis=0, how='any')"
   ]
  },
  {
   "cell_type": "code",
   "execution_count": 40,
   "metadata": {},
   "outputs": [],
   "source": [
    "# Extracting the predictive variables\n",
    "X = modelData[['ActualElapsedTime', 'CRSElapsedTime', 'AirTime', 'Distance', 'TaxiIn', 'TaxiOut']]\n",
    "\n",
    "# Extracting only the prediction variable\n",
    "y = modelData['DepDelay']"
   ]
  },
  {
   "cell_type": "code",
   "execution_count": 41,
   "metadata": {},
   "outputs": [
    {
     "name": "stdout",
     "output_type": "stream",
     "text": [
      "The shape of training features is: (4241599, 6)\n",
      "The shape of testing features is: (1060400, 6)\n"
     ]
    }
   ],
   "source": [
    "# Splitting the dataset into training and testing\n",
    "X_train, X_test, y_train, y_test = train_test_split(X, y, test_size=0.2, random_state=0)\n",
    "print('The shape of training features is:', X_train.shape)\n",
    "print('The shape of testing features is:', X_test.shape)"
   ]
  },
  {
   "cell_type": "code",
   "execution_count": 42,
   "metadata": {},
   "outputs": [],
   "source": [
    "model = Sequential([\n",
    "    Dense(128, activation='relu', input_shape=(6,)),\n",
    "    Dense(64, activation='relu'),\n",
    "    Dense(32, activation='relu'),\n",
    "    Dense(1, activation='sigmoid')\n",
    "])\n",
    "\n",
    "model.compile(optimizer='sgd',\n",
    "              loss='binary_crossentropy',\n",
    "              metrics=['accuracy'])"
   ]
  },
  {
   "cell_type": "code",
   "execution_count": 43,
   "metadata": {},
   "outputs": [
    {
     "name": "stdout",
     "output_type": "stream",
     "text": [
      "Epoch 1/10\n",
      "16569/16569 [==============================] - 20s 1ms/step - loss: nan - accuracy: 0.2194 - val_loss: nan - val_accuracy: 0.2200\n",
      "Epoch 2/10\n",
      "16569/16569 [==============================] - 20s 1ms/step - loss: nan - accuracy: 0.2198 - val_loss: nan - val_accuracy: 0.2200\n",
      "Epoch 3/10\n",
      "16569/16569 [==============================] - 20s 1ms/step - loss: nan - accuracy: 0.2198 - val_loss: nan - val_accuracy: 0.2200\n",
      "Epoch 4/10\n",
      "16569/16569 [==============================] - 21s 1ms/step - loss: nan - accuracy: 0.2196 - val_loss: nan - val_accuracy: 0.2200\n",
      "Epoch 5/10\n",
      "16569/16569 [==============================] - 21s 1ms/step - loss: nan - accuracy: 0.2198 - val_loss: nan - val_accuracy: 0.2200\n",
      "Epoch 6/10\n",
      "16569/16569 [==============================] - 21s 1ms/step - loss: nan - accuracy: 0.2198 - val_loss: nan - val_accuracy: 0.2200\n",
      "Epoch 7/10\n",
      "16569/16569 [==============================] - 21s 1ms/step - loss: nan - accuracy: 0.2196 - val_loss: nan - val_accuracy: 0.2200\n",
      "Epoch 8/10\n",
      "16569/16569 [==============================] - 21s 1ms/step - loss: nan - accuracy: 0.2197 - val_loss: nan - val_accuracy: 0.2200\n",
      "Epoch 9/10\n",
      "16569/16569 [==============================] - 19s 1ms/step - loss: nan - accuracy: 0.2198 - val_loss: nan - val_accuracy: 0.2200\n",
      "Epoch 10/10\n",
      "16569/16569 [==============================] - 19s 1ms/step - loss: nan - accuracy: 0.2197 - val_loss: nan - val_accuracy: 0.2200\n"
     ]
    }
   ],
   "source": [
    "hist = model.fit(X_train, y_train,\n",
    "          batch_size=256, epochs=10,\n",
    "          validation_data=(X_test, y_test))"
   ]
  }
 ],
 "metadata": {
  "kernelspec": {
   "display_name": "Python 3",
   "language": "python",
   "name": "python3"
  },
  "language_info": {
   "codemirror_mode": {
    "name": "ipython",
    "version": 3
   },
   "file_extension": ".py",
   "mimetype": "text/x-python",
   "name": "python",
   "nbconvert_exporter": "python",
   "pygments_lexer": "ipython3",
   "version": "3.7.10"
  }
 },
 "nbformat": 4,
 "nbformat_minor": 2
}

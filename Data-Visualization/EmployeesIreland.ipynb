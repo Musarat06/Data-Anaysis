{
 "cells": [
  {
   "cell_type": "code",
   "execution_count": 1,
   "id": "lovely-allergy",
   "metadata": {},
   "outputs": [],
   "source": [
    "import pandas as pd\n",
    "import matplotlib.pyplot as plt\n",
    "import seaborn as sns\n",
    "from matplotlib import cm\n",
    "import numpy as np\n",
    "import statsmodels.formula.api as smf"
   ]
  },
  {
   "cell_type": "code",
   "execution_count": 2,
   "id": "seasonal-dating",
   "metadata": {},
   "outputs": [],
   "source": [
    "data = pd.read_csv('pythondata.csv')"
   ]
  },
  {
   "cell_type": "code",
   "execution_count": 3,
   "id": "common-astronomy",
   "metadata": {},
   "outputs": [
    {
     "data": {
      "text/html": [
       "<div>\n",
       "<style scoped>\n",
       "    .dataframe tbody tr th:only-of-type {\n",
       "        vertical-align: middle;\n",
       "    }\n",
       "\n",
       "    .dataframe tbody tr th {\n",
       "        vertical-align: top;\n",
       "    }\n",
       "\n",
       "    .dataframe thead th {\n",
       "        text-align: right;\n",
       "    }\n",
       "</style>\n",
       "<table border=\"1\" class=\"dataframe\">\n",
       "  <thead>\n",
       "    <tr style=\"text-align: right;\">\n",
       "      <th></th>\n",
       "      <th>Postcode</th>\n",
       "      <th>Town</th>\n",
       "      <th>Region N</th>\n",
       "      <th>Department Overseas (1 = yes 0 = no)</th>\n",
       "      <th>Total Number of Employers</th>\n",
       "      <th>Unknown Size of Employers</th>\n",
       "      <th>1 to 5 employees</th>\n",
       "      <th>6 to 9 employees</th>\n",
       "      <th>10 to 19 employees</th>\n",
       "      <th>20 to 49 employees</th>\n",
       "      <th>50 to 99 employees</th>\n",
       "      <th>100 to 199 employees</th>\n",
       "      <th>200 to 499 employees</th>\n",
       "      <th>&gt;500 employees</th>\n",
       "    </tr>\n",
       "  </thead>\n",
       "  <tbody>\n",
       "    <tr>\n",
       "      <th>0</th>\n",
       "      <td>97201</td>\n",
       "      <td>L'Ajoupa-Bouillon</td>\n",
       "      <td>Martinique</td>\n",
       "      <td>1</td>\n",
       "      <td>104</td>\n",
       "      <td>92</td>\n",
       "      <td>11</td>\n",
       "      <td>1</td>\n",
       "      <td>0</td>\n",
       "      <td>0</td>\n",
       "      <td>0</td>\n",
       "      <td>0</td>\n",
       "      <td>0</td>\n",
       "      <td>0</td>\n",
       "    </tr>\n",
       "    <tr>\n",
       "      <th>1</th>\n",
       "      <td>97202</td>\n",
       "      <td>Les Anses-d'Arlet</td>\n",
       "      <td>Martinique</td>\n",
       "      <td>1</td>\n",
       "      <td>278</td>\n",
       "      <td>248</td>\n",
       "      <td>25</td>\n",
       "      <td>4</td>\n",
       "      <td>1</td>\n",
       "      <td>0</td>\n",
       "      <td>0</td>\n",
       "      <td>0</td>\n",
       "      <td>0</td>\n",
       "      <td>0</td>\n",
       "    </tr>\n",
       "    <tr>\n",
       "      <th>2</th>\n",
       "      <td>97203</td>\n",
       "      <td>Basse-Pointe</td>\n",
       "      <td>Martinique</td>\n",
       "      <td>1</td>\n",
       "      <td>236</td>\n",
       "      <td>175</td>\n",
       "      <td>48</td>\n",
       "      <td>7</td>\n",
       "      <td>5</td>\n",
       "      <td>1</td>\n",
       "      <td>0</td>\n",
       "      <td>0</td>\n",
       "      <td>0</td>\n",
       "      <td>0</td>\n",
       "    </tr>\n",
       "    <tr>\n",
       "      <th>3</th>\n",
       "      <td>97204</td>\n",
       "      <td>Le Carbet</td>\n",
       "      <td>Martinique</td>\n",
       "      <td>1</td>\n",
       "      <td>294</td>\n",
       "      <td>239</td>\n",
       "      <td>42</td>\n",
       "      <td>5</td>\n",
       "      <td>5</td>\n",
       "      <td>2</td>\n",
       "      <td>1</td>\n",
       "      <td>0</td>\n",
       "      <td>0</td>\n",
       "      <td>0</td>\n",
       "    </tr>\n",
       "    <tr>\n",
       "      <th>4</th>\n",
       "      <td>97205</td>\n",
       "      <td>Case-Pilote</td>\n",
       "      <td>Martinique</td>\n",
       "      <td>1</td>\n",
       "      <td>321</td>\n",
       "      <td>265</td>\n",
       "      <td>40</td>\n",
       "      <td>11</td>\n",
       "      <td>4</td>\n",
       "      <td>0</td>\n",
       "      <td>1</td>\n",
       "      <td>0</td>\n",
       "      <td>0</td>\n",
       "      <td>0</td>\n",
       "    </tr>\n",
       "    <tr>\n",
       "      <th>...</th>\n",
       "      <td>...</td>\n",
       "      <td>...</td>\n",
       "      <td>...</td>\n",
       "      <td>...</td>\n",
       "      <td>...</td>\n",
       "      <td>...</td>\n",
       "      <td>...</td>\n",
       "      <td>...</td>\n",
       "      <td>...</td>\n",
       "      <td>...</td>\n",
       "      <td>...</td>\n",
       "      <td>...</td>\n",
       "      <td>...</td>\n",
       "      <td>...</td>\n",
       "    </tr>\n",
       "    <tr>\n",
       "      <th>36676</th>\n",
       "      <td>97130</td>\n",
       "      <td>Terre-de-Bas</td>\n",
       "      <td>�Guadeloupe</td>\n",
       "      <td>971</td>\n",
       "      <td>96</td>\n",
       "      <td>83</td>\n",
       "      <td>11</td>\n",
       "      <td>1</td>\n",
       "      <td>1</td>\n",
       "      <td>0</td>\n",
       "      <td>0</td>\n",
       "      <td>0</td>\n",
       "      <td>0</td>\n",
       "      <td>0</td>\n",
       "    </tr>\n",
       "    <tr>\n",
       "      <th>36677</th>\n",
       "      <td>97131</td>\n",
       "      <td>Terre-de-Haut</td>\n",
       "      <td>�Guadeloupe</td>\n",
       "      <td>971</td>\n",
       "      <td>229</td>\n",
       "      <td>171</td>\n",
       "      <td>48</td>\n",
       "      <td>6</td>\n",
       "      <td>4</td>\n",
       "      <td>0</td>\n",
       "      <td>0</td>\n",
       "      <td>0</td>\n",
       "      <td>0</td>\n",
       "      <td>0</td>\n",
       "    </tr>\n",
       "    <tr>\n",
       "      <th>36678</th>\n",
       "      <td>97132</td>\n",
       "      <td>Trois-Rivières</td>\n",
       "      <td>�Guadeloupe</td>\n",
       "      <td>971</td>\n",
       "      <td>633</td>\n",
       "      <td>546</td>\n",
       "      <td>69</td>\n",
       "      <td>9</td>\n",
       "      <td>6</td>\n",
       "      <td>1</td>\n",
       "      <td>1</td>\n",
       "      <td>1</td>\n",
       "      <td>0</td>\n",
       "      <td>0</td>\n",
       "    </tr>\n",
       "    <tr>\n",
       "      <th>36679</th>\n",
       "      <td>97133</td>\n",
       "      <td>Vieux-Fort</td>\n",
       "      <td>�Guadeloupe</td>\n",
       "      <td>971</td>\n",
       "      <td>77</td>\n",
       "      <td>72</td>\n",
       "      <td>4</td>\n",
       "      <td>1</td>\n",
       "      <td>0</td>\n",
       "      <td>0</td>\n",
       "      <td>0</td>\n",
       "      <td>0</td>\n",
       "      <td>0</td>\n",
       "      <td>0</td>\n",
       "    </tr>\n",
       "    <tr>\n",
       "      <th>36680</th>\n",
       "      <td>97134</td>\n",
       "      <td>Vieux-Habitants</td>\n",
       "      <td>�Guadeloupe</td>\n",
       "      <td>971</td>\n",
       "      <td>508</td>\n",
       "      <td>440</td>\n",
       "      <td>59</td>\n",
       "      <td>6</td>\n",
       "      <td>3</td>\n",
       "      <td>0</td>\n",
       "      <td>0</td>\n",
       "      <td>0</td>\n",
       "      <td>0</td>\n",
       "      <td>0</td>\n",
       "    </tr>\n",
       "  </tbody>\n",
       "</table>\n",
       "<p>36681 rows × 14 columns</p>\n",
       "</div>"
      ],
      "text/plain": [
       "      Postcode               Town     Region N  \\\n",
       "0        97201  L'Ajoupa-Bouillon   Martinique   \n",
       "1        97202  Les Anses-d'Arlet   Martinique   \n",
       "2        97203       Basse-Pointe   Martinique   \n",
       "3        97204          Le Carbet   Martinique   \n",
       "4        97205        Case-Pilote   Martinique   \n",
       "...        ...                ...          ...   \n",
       "36676    97130       Terre-de-Bas  �Guadeloupe   \n",
       "36677    97131      Terre-de-Haut  �Guadeloupe   \n",
       "36678    97132     Trois-Rivières  �Guadeloupe   \n",
       "36679    97133         Vieux-Fort  �Guadeloupe   \n",
       "36680    97134    Vieux-Habitants  �Guadeloupe   \n",
       "\n",
       "       Department Overseas (1 = yes 0 = no)   Total Number of Employers  \\\n",
       "0                                          1                        104   \n",
       "1                                          1                        278   \n",
       "2                                          1                        236   \n",
       "3                                          1                        294   \n",
       "4                                          1                        321   \n",
       "...                                      ...                        ...   \n",
       "36676                                    971                         96   \n",
       "36677                                    971                        229   \n",
       "36678                                    971                        633   \n",
       "36679                                    971                         77   \n",
       "36680                                    971                        508   \n",
       "\n",
       "       Unknown Size of Employers  1 to 5 employees  6 to 9 employees  \\\n",
       "0                             92                11                 1   \n",
       "1                            248                25                 4   \n",
       "2                            175                48                 7   \n",
       "3                            239                42                 5   \n",
       "4                            265                40                11   \n",
       "...                          ...               ...               ...   \n",
       "36676                         83                11                 1   \n",
       "36677                        171                48                 6   \n",
       "36678                        546                69                 9   \n",
       "36679                         72                 4                 1   \n",
       "36680                        440                59                 6   \n",
       "\n",
       "       10 to 19 employees  20 to 49 employees  50 to 99 employees  \\\n",
       "0                       0                   0                   0   \n",
       "1                       1                   0                   0   \n",
       "2                       5                   1                   0   \n",
       "3                       5                   2                   1   \n",
       "4                       4                   0                   1   \n",
       "...                   ...                 ...                 ...   \n",
       "36676                   1                   0                   0   \n",
       "36677                   4                   0                   0   \n",
       "36678                   6                   1                   1   \n",
       "36679                   0                   0                   0   \n",
       "36680                   3                   0                   0   \n",
       "\n",
       "       100 to 199 employees  200 to 499 employees  >500 employees  \n",
       "0                         0                     0               0  \n",
       "1                         0                     0               0  \n",
       "2                         0                     0               0  \n",
       "3                         0                     0               0  \n",
       "4                         0                     0               0  \n",
       "...                     ...                   ...             ...  \n",
       "36676                     0                     0               0  \n",
       "36677                     0                     0               0  \n",
       "36678                     1                     0               0  \n",
       "36679                     0                     0               0  \n",
       "36680                     0                     0               0  \n",
       "\n",
       "[36681 rows x 14 columns]"
      ]
     },
     "execution_count": 3,
     "metadata": {},
     "output_type": "execute_result"
    }
   ],
   "source": [
    "data"
   ]
  },
  {
   "cell_type": "markdown",
   "id": "dressed-ground",
   "metadata": {},
   "source": [
    "## Cleaning the dataset"
   ]
  },
  {
   "cell_type": "markdown",
   "id": "attempted-boundary",
   "metadata": {},
   "source": [
    "We can see in the dataset in the Region N column that there are some extra unknown character in the start of some of the Region names, therefore we remove it so that it don't cause any problems while we process it further."
   ]
  },
  {
   "cell_type": "code",
   "execution_count": 4,
   "id": "complex-science",
   "metadata": {},
   "outputs": [],
   "source": [
    "data['Region N'] = data['Region N'].str.replace(\"�\",\"\")"
   ]
  },
  {
   "cell_type": "code",
   "execution_count": 5,
   "id": "official-replication",
   "metadata": {},
   "outputs": [
    {
     "data": {
      "text/html": [
       "<div>\n",
       "<style scoped>\n",
       "    .dataframe tbody tr th:only-of-type {\n",
       "        vertical-align: middle;\n",
       "    }\n",
       "\n",
       "    .dataframe tbody tr th {\n",
       "        vertical-align: top;\n",
       "    }\n",
       "\n",
       "    .dataframe thead th {\n",
       "        text-align: right;\n",
       "    }\n",
       "</style>\n",
       "<table border=\"1\" class=\"dataframe\">\n",
       "  <thead>\n",
       "    <tr style=\"text-align: right;\">\n",
       "      <th></th>\n",
       "      <th>Postcode</th>\n",
       "      <th>Town</th>\n",
       "      <th>Region N</th>\n",
       "      <th>Department Overseas (1 = yes 0 = no)</th>\n",
       "      <th>Total Number of Employers</th>\n",
       "      <th>Unknown Size of Employers</th>\n",
       "      <th>1 to 5 employees</th>\n",
       "      <th>6 to 9 employees</th>\n",
       "      <th>10 to 19 employees</th>\n",
       "      <th>20 to 49 employees</th>\n",
       "      <th>50 to 99 employees</th>\n",
       "      <th>100 to 199 employees</th>\n",
       "      <th>200 to 499 employees</th>\n",
       "      <th>&gt;500 employees</th>\n",
       "    </tr>\n",
       "  </thead>\n",
       "  <tbody>\n",
       "    <tr>\n",
       "      <th>0</th>\n",
       "      <td>97201</td>\n",
       "      <td>L'Ajoupa-Bouillon</td>\n",
       "      <td>Martinique</td>\n",
       "      <td>1</td>\n",
       "      <td>104</td>\n",
       "      <td>92</td>\n",
       "      <td>11</td>\n",
       "      <td>1</td>\n",
       "      <td>0</td>\n",
       "      <td>0</td>\n",
       "      <td>0</td>\n",
       "      <td>0</td>\n",
       "      <td>0</td>\n",
       "      <td>0</td>\n",
       "    </tr>\n",
       "    <tr>\n",
       "      <th>1</th>\n",
       "      <td>97202</td>\n",
       "      <td>Les Anses-d'Arlet</td>\n",
       "      <td>Martinique</td>\n",
       "      <td>1</td>\n",
       "      <td>278</td>\n",
       "      <td>248</td>\n",
       "      <td>25</td>\n",
       "      <td>4</td>\n",
       "      <td>1</td>\n",
       "      <td>0</td>\n",
       "      <td>0</td>\n",
       "      <td>0</td>\n",
       "      <td>0</td>\n",
       "      <td>0</td>\n",
       "    </tr>\n",
       "    <tr>\n",
       "      <th>2</th>\n",
       "      <td>97203</td>\n",
       "      <td>Basse-Pointe</td>\n",
       "      <td>Martinique</td>\n",
       "      <td>1</td>\n",
       "      <td>236</td>\n",
       "      <td>175</td>\n",
       "      <td>48</td>\n",
       "      <td>7</td>\n",
       "      <td>5</td>\n",
       "      <td>1</td>\n",
       "      <td>0</td>\n",
       "      <td>0</td>\n",
       "      <td>0</td>\n",
       "      <td>0</td>\n",
       "    </tr>\n",
       "    <tr>\n",
       "      <th>3</th>\n",
       "      <td>97204</td>\n",
       "      <td>Le Carbet</td>\n",
       "      <td>Martinique</td>\n",
       "      <td>1</td>\n",
       "      <td>294</td>\n",
       "      <td>239</td>\n",
       "      <td>42</td>\n",
       "      <td>5</td>\n",
       "      <td>5</td>\n",
       "      <td>2</td>\n",
       "      <td>1</td>\n",
       "      <td>0</td>\n",
       "      <td>0</td>\n",
       "      <td>0</td>\n",
       "    </tr>\n",
       "    <tr>\n",
       "      <th>4</th>\n",
       "      <td>97205</td>\n",
       "      <td>Case-Pilote</td>\n",
       "      <td>Martinique</td>\n",
       "      <td>1</td>\n",
       "      <td>321</td>\n",
       "      <td>265</td>\n",
       "      <td>40</td>\n",
       "      <td>11</td>\n",
       "      <td>4</td>\n",
       "      <td>0</td>\n",
       "      <td>1</td>\n",
       "      <td>0</td>\n",
       "      <td>0</td>\n",
       "      <td>0</td>\n",
       "    </tr>\n",
       "    <tr>\n",
       "      <th>...</th>\n",
       "      <td>...</td>\n",
       "      <td>...</td>\n",
       "      <td>...</td>\n",
       "      <td>...</td>\n",
       "      <td>...</td>\n",
       "      <td>...</td>\n",
       "      <td>...</td>\n",
       "      <td>...</td>\n",
       "      <td>...</td>\n",
       "      <td>...</td>\n",
       "      <td>...</td>\n",
       "      <td>...</td>\n",
       "      <td>...</td>\n",
       "      <td>...</td>\n",
       "    </tr>\n",
       "    <tr>\n",
       "      <th>36676</th>\n",
       "      <td>97130</td>\n",
       "      <td>Terre-de-Bas</td>\n",
       "      <td>Guadeloupe</td>\n",
       "      <td>971</td>\n",
       "      <td>96</td>\n",
       "      <td>83</td>\n",
       "      <td>11</td>\n",
       "      <td>1</td>\n",
       "      <td>1</td>\n",
       "      <td>0</td>\n",
       "      <td>0</td>\n",
       "      <td>0</td>\n",
       "      <td>0</td>\n",
       "      <td>0</td>\n",
       "    </tr>\n",
       "    <tr>\n",
       "      <th>36677</th>\n",
       "      <td>97131</td>\n",
       "      <td>Terre-de-Haut</td>\n",
       "      <td>Guadeloupe</td>\n",
       "      <td>971</td>\n",
       "      <td>229</td>\n",
       "      <td>171</td>\n",
       "      <td>48</td>\n",
       "      <td>6</td>\n",
       "      <td>4</td>\n",
       "      <td>0</td>\n",
       "      <td>0</td>\n",
       "      <td>0</td>\n",
       "      <td>0</td>\n",
       "      <td>0</td>\n",
       "    </tr>\n",
       "    <tr>\n",
       "      <th>36678</th>\n",
       "      <td>97132</td>\n",
       "      <td>Trois-Rivières</td>\n",
       "      <td>Guadeloupe</td>\n",
       "      <td>971</td>\n",
       "      <td>633</td>\n",
       "      <td>546</td>\n",
       "      <td>69</td>\n",
       "      <td>9</td>\n",
       "      <td>6</td>\n",
       "      <td>1</td>\n",
       "      <td>1</td>\n",
       "      <td>1</td>\n",
       "      <td>0</td>\n",
       "      <td>0</td>\n",
       "    </tr>\n",
       "    <tr>\n",
       "      <th>36679</th>\n",
       "      <td>97133</td>\n",
       "      <td>Vieux-Fort</td>\n",
       "      <td>Guadeloupe</td>\n",
       "      <td>971</td>\n",
       "      <td>77</td>\n",
       "      <td>72</td>\n",
       "      <td>4</td>\n",
       "      <td>1</td>\n",
       "      <td>0</td>\n",
       "      <td>0</td>\n",
       "      <td>0</td>\n",
       "      <td>0</td>\n",
       "      <td>0</td>\n",
       "      <td>0</td>\n",
       "    </tr>\n",
       "    <tr>\n",
       "      <th>36680</th>\n",
       "      <td>97134</td>\n",
       "      <td>Vieux-Habitants</td>\n",
       "      <td>Guadeloupe</td>\n",
       "      <td>971</td>\n",
       "      <td>508</td>\n",
       "      <td>440</td>\n",
       "      <td>59</td>\n",
       "      <td>6</td>\n",
       "      <td>3</td>\n",
       "      <td>0</td>\n",
       "      <td>0</td>\n",
       "      <td>0</td>\n",
       "      <td>0</td>\n",
       "      <td>0</td>\n",
       "    </tr>\n",
       "  </tbody>\n",
       "</table>\n",
       "<p>36681 rows × 14 columns</p>\n",
       "</div>"
      ],
      "text/plain": [
       "      Postcode               Town    Region N  \\\n",
       "0        97201  L'Ajoupa-Bouillon  Martinique   \n",
       "1        97202  Les Anses-d'Arlet  Martinique   \n",
       "2        97203       Basse-Pointe  Martinique   \n",
       "3        97204          Le Carbet  Martinique   \n",
       "4        97205        Case-Pilote  Martinique   \n",
       "...        ...                ...         ...   \n",
       "36676    97130       Terre-de-Bas  Guadeloupe   \n",
       "36677    97131      Terre-de-Haut  Guadeloupe   \n",
       "36678    97132     Trois-Rivières  Guadeloupe   \n",
       "36679    97133         Vieux-Fort  Guadeloupe   \n",
       "36680    97134    Vieux-Habitants  Guadeloupe   \n",
       "\n",
       "       Department Overseas (1 = yes 0 = no)   Total Number of Employers  \\\n",
       "0                                          1                        104   \n",
       "1                                          1                        278   \n",
       "2                                          1                        236   \n",
       "3                                          1                        294   \n",
       "4                                          1                        321   \n",
       "...                                      ...                        ...   \n",
       "36676                                    971                         96   \n",
       "36677                                    971                        229   \n",
       "36678                                    971                        633   \n",
       "36679                                    971                         77   \n",
       "36680                                    971                        508   \n",
       "\n",
       "       Unknown Size of Employers  1 to 5 employees  6 to 9 employees  \\\n",
       "0                             92                11                 1   \n",
       "1                            248                25                 4   \n",
       "2                            175                48                 7   \n",
       "3                            239                42                 5   \n",
       "4                            265                40                11   \n",
       "...                          ...               ...               ...   \n",
       "36676                         83                11                 1   \n",
       "36677                        171                48                 6   \n",
       "36678                        546                69                 9   \n",
       "36679                         72                 4                 1   \n",
       "36680                        440                59                 6   \n",
       "\n",
       "       10 to 19 employees  20 to 49 employees  50 to 99 employees  \\\n",
       "0                       0                   0                   0   \n",
       "1                       1                   0                   0   \n",
       "2                       5                   1                   0   \n",
       "3                       5                   2                   1   \n",
       "4                       4                   0                   1   \n",
       "...                   ...                 ...                 ...   \n",
       "36676                   1                   0                   0   \n",
       "36677                   4                   0                   0   \n",
       "36678                   6                   1                   1   \n",
       "36679                   0                   0                   0   \n",
       "36680                   3                   0                   0   \n",
       "\n",
       "       100 to 199 employees  200 to 499 employees  >500 employees  \n",
       "0                         0                     0               0  \n",
       "1                         0                     0               0  \n",
       "2                         0                     0               0  \n",
       "3                         0                     0               0  \n",
       "4                         0                     0               0  \n",
       "...                     ...                   ...             ...  \n",
       "36676                     0                     0               0  \n",
       "36677                     0                     0               0  \n",
       "36678                     1                     0               0  \n",
       "36679                     0                     0               0  \n",
       "36680                     0                     0               0  \n",
       "\n",
       "[36681 rows x 14 columns]"
      ]
     },
     "execution_count": 5,
     "metadata": {},
     "output_type": "execute_result"
    }
   ],
   "source": [
    "data"
   ]
  },
  {
   "cell_type": "markdown",
   "id": "explicit-burner",
   "metadata": {},
   "source": [
    "#### Checking if any null values exists in the dataframe"
   ]
  },
  {
   "cell_type": "code",
   "execution_count": 6,
   "id": "written-equipment",
   "metadata": {},
   "outputs": [
    {
     "data": {
      "text/plain": [
       "False"
      ]
     },
     "execution_count": 6,
     "metadata": {},
     "output_type": "execute_result"
    }
   ],
   "source": [
    "data.isnull().values.any()"
   ]
  },
  {
   "cell_type": "markdown",
   "id": "demanding-american",
   "metadata": {},
   "source": [
    "The False output represents that there is no missing value in the dataset."
   ]
  },
  {
   "cell_type": "markdown",
   "id": "christian-constraint",
   "metadata": {},
   "source": [
    "# 1)\n",
    "\n",
    "#### How many towns ( column B ) have more than 10 values as Unknown size of employers. \n",
    "#### Calculate how many towns per region have the maximum unknown employers size and represent it in a bart chat"
   ]
  },
  {
   "cell_type": "code",
   "execution_count": 7,
   "id": "smoking-texas",
   "metadata": {},
   "outputs": [
    {
     "data": {
      "text/plain": [
       "21856"
      ]
     },
     "execution_count": 7,
     "metadata": {},
     "output_type": "execute_result"
    }
   ],
   "source": [
    "data[data['Unknown Size of Employers'] > 10]['Town'].count()"
   ]
  },
  {
   "cell_type": "markdown",
   "id": "spectacular-oasis",
   "metadata": {},
   "source": [
    "We can see that 21856 Towns have unknown size of employers greater than 10."
   ]
  },
  {
   "cell_type": "code",
   "execution_count": 8,
   "id": "respective-documentary",
   "metadata": {},
   "outputs": [],
   "source": [
    "regions = data['Region N'].unique().tolist()"
   ]
  },
  {
   "cell_type": "code",
   "execution_count": 9,
   "id": "wooden-alfred",
   "metadata": {},
   "outputs": [
    {
     "data": {
      "text/plain": [
       "['Martinique',\n",
       " 'French Guiana',\n",
       " 'Reunion',\n",
       " 'Mayotte',\n",
       " 'le-de-France',\n",
       " 'Grand East',\n",
       " 'Hauts-de-France',\n",
       " 'Normandy',\n",
       " 'Centre-Val de Loire',\n",
       " 'Bourgogne-Franche-Comt',\n",
       " 'Nord',\n",
       " 'north-eastern',\n",
       " 'Pays de la Loire',\n",
       " 'Brittany',\n",
       " 'South Western ',\n",
       " 'Central France',\n",
       " 'Auvergne-Rhne-Alpes',\n",
       " 'Occitanie',\n",
       " \"Provence-Alpes-Cte d'Azur\",\n",
       " 'Corsica',\n",
       " 'Guadeloupe']"
      ]
     },
     "execution_count": 9,
     "metadata": {},
     "output_type": "execute_result"
    }
   ],
   "source": [
    "regions"
   ]
  },
  {
   "cell_type": "code",
   "execution_count": 10,
   "id": "nervous-pregnancy",
   "metadata": {},
   "outputs": [],
   "source": [
    "regionMax = []\n",
    "\n",
    "for region in regions:\n",
    "    maxValue = data[data['Region N'] == region]['Unknown Size of Employers'].max()\n",
    "    regionMax.append(maxValue)"
   ]
  },
  {
   "cell_type": "code",
   "execution_count": 11,
   "id": "automotive-terminal",
   "metadata": {},
   "outputs": [
    {
     "name": "stdout",
     "output_type": "stream",
     "text": [
      "[8974, 4848, 8090, 3970, 316603, 13604, 4322, 6002, 5509, 6326, 13148, 5507, 15381, 17800, 24584, 4766, 33047, 17495, 48557, 4245, 5612]\n"
     ]
    }
   ],
   "source": [
    "print(regionMax)"
   ]
  },
  {
   "cell_type": "code",
   "execution_count": 12,
   "id": "chief-declaration",
   "metadata": {
    "scrolled": false
   },
   "outputs": [
    {
     "data": {
      "image/png": "[encoded data removed]",
      "text/plain": [
       "<Figure size 576x432 with 1 Axes>"
      ]
     },
     "metadata": {
      "needs_background": "light"
     },
     "output_type": "display_data"
    }
   ],
   "source": [
    "colors = cm.inferno_r(np.linspace(.5, .05, 20))\n",
    "fig, ax = plt.subplots(figsize=(8,6))\n",
    "\n",
    "plt.bar(regions, regionMax, align='center', color=colors)\n",
    "plt.xlabel('Regions')\n",
    "plt.ylabel('Unknown Size of Employers')\n",
    "plt.title('Maximum Number of Unknown Employers Data')\n",
    "plt.xticks(rotation = 90)\n",
    "plt.show()"
   ]
  },
  {
   "cell_type": "markdown",
   "id": "processed-strike",
   "metadata": {},
   "source": [
    "To perform the above mentioned query, we used the Pandas to find out the maximum number of unknown employers data in the given dataset. First of all, each unique region names were extracted using the **unique()** function of the pandas, and these extracted region names have been stored in the **regions** list. Then, the maximum number of the unknown size of the employers have been queried using the **for** loop, which loops through each entry in the dataframe and gets the maximum count for each region using the **max()** function of the pandas, and then it stores in the **regionMax** list.\n",
    "\n",
    "Then using the Matplotlib library, these maximum counts stored in the **regionMax** list have been plotted in terms of the bar chart, in which x-axis shows the Regions' Names, and the y-axis represents the Unknown Size of Employeers. For visualization purpose, the bars have been given different colors.\n",
    "\n",
    "We can see that the 'le-de-France' region has the maximum number (316603) of unknown employers data size which can also be interpreted as the maximum number of companies are present in this specific region compared to others."
   ]
  },
  {
   "cell_type": "markdown",
   "id": "electronic-consideration",
   "metadata": {},
   "source": [
    "#### We can also see which Town in the 'Le-De-France' has the maximum unknown size of employers"
   ]
  },
  {
   "cell_type": "code",
   "execution_count": 13,
   "id": "vital-adult",
   "metadata": {},
   "outputs": [
    {
     "data": {
      "text/plain": [
       "Postcode                                        75056\n",
       "Town                                            Paris\n",
       "Region N                                 le-de-France\n",
       "Department Overseas (1 = yes 0 = no)               75\n",
       "Total Number of Employers                      427385\n",
       "Unknown Size of Employers                      316603\n",
       "1 to 5 employees                                76368\n",
       "6 to 9 employees                                14836\n",
       "10 to 19 employees                              10829\n",
       "20 to 49 employees                               5643\n",
       "50 to 99 employees                               1658\n",
       "100 to 199 employees                              812\n",
       "200 to 499 employees                              456\n",
       ">500 employees                                    180\n",
       "Name: 97, dtype: object"
      ]
     },
     "execution_count": 13,
     "metadata": {},
     "output_type": "execute_result"
    }
   ],
   "source": [
    "maxSizeIndex = data[data['Region N'] == 'le-de-France']['Unknown Size of Employers'].idxmax()\n",
    "data.iloc[maxSizeIndex,:]"
   ]
  },
  {
   "cell_type": "markdown",
   "id": "radical-polish",
   "metadata": {},
   "source": [
    "We can see that the Paris has the most number of employers and the maximum number of unknown size of employers as well in the France region."
   ]
  },
  {
   "cell_type": "markdown",
   "id": "broadband-angel",
   "metadata": {},
   "source": [
    "# 2)\n",
    "\n",
    "#### Explore the relationship, if any, between regions ( column C ) and employers with more than 100 employees ( column L,M,N) . Determine if there is evidence to support that certain regions are hosting larger companies ( +100 employees ) and represent the in a graph if possible"
   ]
  },
  {
   "cell_type": "markdown",
   "id": "unnecessary-array",
   "metadata": {},
   "source": [
    "Getting the total number of employers having employees in range of 100 to 199 region-wise"
   ]
  },
  {
   "cell_type": "code",
   "execution_count": 14,
   "id": "dutch-button",
   "metadata": {},
   "outputs": [],
   "source": [
    "_100to199_Sum = []\n",
    "for region in regions:\n",
    "    _sum = data[data['Region N'] == region]['100 to 199 employees'].sum()\n",
    "    _100to199_Sum.append(_sum)"
   ]
  },
  {
   "cell_type": "markdown",
   "id": "painted-childhood",
   "metadata": {},
   "source": [
    "Getting the total number of employers having employees in range of 200 to 499 region-wise"
   ]
  },
  {
   "cell_type": "code",
   "execution_count": 15,
   "id": "demanding-guest",
   "metadata": {},
   "outputs": [],
   "source": [
    "_200to499_Sum = []\n",
    "for region in regions:\n",
    "    _sum = data[data['Region N'] == region]['200 to 499 employees'].sum()\n",
    "    _200to499_Sum.append(_sum)"
   ]
  },
  {
   "cell_type": "markdown",
   "id": "reported-window",
   "metadata": {},
   "source": [
    "Getting the total number of employers having employees greater than 500 region-wise"
   ]
  },
  {
   "cell_type": "code",
   "execution_count": 16,
   "id": "anonymous-fourth",
   "metadata": {},
   "outputs": [],
   "source": [
    "_gt500_Sum = []\n",
    "for region in regions:\n",
    "    _sum = data[data['Region N'] == region]['>500 employees'].sum()\n",
    "    _gt500_Sum.append(_sum)"
   ]
  },
  {
   "cell_type": "code",
   "execution_count": 17,
   "id": "likely-sunday",
   "metadata": {},
   "outputs": [
    {
     "data": {
      "image/png": "[encoded data removed]",
      "text/plain": [
       "<Figure size 1440x720 with 1 Axes>"
      ]
     },
     "metadata": {
      "needs_background": "light"
     },
     "output_type": "display_data"
    }
   ],
   "source": [
    "plt.figure(figsize=(20,10))\n",
    "ind = np.arange(len(regions)) \n",
    "width = 0.3\n",
    "\n",
    "colors = cm.inferno_r(np.linspace(.5, .05, 3))\n",
    "\n",
    "bar1 = plt.bar(ind, _100to199_Sum, width, color = colors[0])\n",
    "bar2 = plt.bar(ind+width, _200to499_Sum, width, color=colors[1])\n",
    "bar3 = plt.bar(ind+width*2, _gt500_Sum, width, color = colors[2])\n",
    "\n",
    "plt.xlabel('Regions')\n",
    "plt.ylabel('Number of Employees')\n",
    "plt.title('Region-wise number of employees')\n",
    "\n",
    "plt.bar_label(bar1, padding=3, fontsize=7.5)\n",
    "plt.bar_label(bar2, padding=3, fontsize=7.5)\n",
    "plt.bar_label(bar3, padding=3, fontsize=7.5)\n",
    "\n",
    "plt.xticks(ind+width,regions, rotation=90)\n",
    "plt.legend( (bar1, bar2, bar3), ('100 to 199 Employees', '200 to 499 Employees', 'Greater than 500 Employees') )\n",
    "fig.tight_layout()\n",
    "plt.show()"
   ]
  },
  {
   "cell_type": "markdown",
   "id": "automotive-botswana",
   "metadata": {},
   "source": [
    "We have used Pandas to get the sum of all the employees for the ranges 100 to 199, 200 to 499, and greater than 500 employees. After appending the results into the list, we visualize the output using the matlplotlib library using the bar graph. The magenta color represents regions having employees ranging from 100 to 199, orange represents regions having employees ranging from 200 to 499, and golden represents regions having employees greater than 500. We can see that France is the region where there are most employees and almost all the regions have employers which have employees in range of 100 to 199."
   ]
  },
  {
   "cell_type": "markdown",
   "id": "satisfactory-seattle",
   "metadata": {},
   "source": [
    "Getting the number of Towns for each Region and representing them in bar chart to visualize how many towns are there in each region"
   ]
  },
  {
   "cell_type": "code",
   "execution_count": 18,
   "id": "suffering-medicare",
   "metadata": {},
   "outputs": [],
   "source": [
    "towns = {}\n",
    "for region in regions:\n",
    "    count = data[data['Region N'] == region]['Town'].count()\n",
    "    towns[region] = count"
   ]
  },
  {
   "cell_type": "code",
   "execution_count": 19,
   "id": "broke-priest",
   "metadata": {},
   "outputs": [
    {
     "data": {
      "text/plain": [
       "{'Martinique': 34,\n",
       " 'French Guiana': 22,\n",
       " 'Reunion': 24,\n",
       " 'Mayotte': 17,\n",
       " 'le-de-France': 1281,\n",
       " 'Grand East': 2857,\n",
       " 'Hauts-de-France': 2291,\n",
       " 'Normandy': 3232,\n",
       " 'Centre-Val de Loire': 1841,\n",
       " 'Bourgogne-Franche-Comt': 3831,\n",
       " 'Nord': 1545,\n",
       " 'north-eastern': 2338,\n",
       " 'Pays de la Loire': 1496,\n",
       " 'Brittany': 5026,\n",
       " 'South Western ': 3020,\n",
       " 'Central France': 747,\n",
       " 'Auvergne-Rhne-Alpes': 4184,\n",
       " 'Occitanie': 1545,\n",
       " \"Provence-Alpes-Cte d'Azur\": 958,\n",
       " 'Corsica': 360,\n",
       " 'Guadeloupe': 32}"
      ]
     },
     "execution_count": 19,
     "metadata": {},
     "output_type": "execute_result"
    }
   ],
   "source": [
    "towns"
   ]
  },
  {
   "cell_type": "code",
   "execution_count": 20,
   "id": "binding-absence",
   "metadata": {},
   "outputs": [
    {
     "data": {
      "image/png": "[encoded data removed]",
      "text/plain": [
       "<Figure size 1440x720 with 1 Axes>"
      ]
     },
     "metadata": {
      "needs_background": "light"
     },
     "output_type": "display_data"
    }
   ],
   "source": [
    "colors = cm.inferno_r(np.linspace(.5, .05, 20))\n",
    "fig, ax = plt.subplots(figsize=(20,10))\n",
    "\n",
    "bar1 = plt.bar(towns.keys(), towns.values(), align='center', color=colors)\n",
    "plt.bar_label(bar1, padding=3, fontsize=7.5)\n",
    "plt.xlabel('Regions')\n",
    "plt.ylabel('Numbers of Town')\n",
    "plt.title('Total number of towns in each region')\n",
    "plt.xticks(rotation = 90)\n",
    "plt.show()"
   ]
  },
  {
   "cell_type": "markdown",
   "id": "charged-calculator",
   "metadata": {},
   "source": [
    "# 3)\n",
    "\n",
    "#### Determine if there is a correlation between number of employers (column E ) and overseas department ( column D ) and calculate basics elements such as mean of employers by region and represent it."
   ]
  },
  {
   "cell_type": "code",
   "execution_count": 21,
   "id": "cooperative-burden",
   "metadata": {},
   "outputs": [
    {
     "name": "stdout",
     "output_type": "stream",
     "text": [
      "The correlation coefficient between the Number of Employers and Department Overseas column is: 0.02968931663993193\n"
     ]
    }
   ],
   "source": [
    "col1 = (data['Total Number of Employers'])\n",
    "col2 = (data['Department Overseas (1 = yes 0 = no) '])\n",
    "\n",
    "correlation = col1.corr(col2)\n",
    "\n",
    "print(\"The correlation coefficient between the Number of Employers and Department Overseas column is:\", correlation)"
   ]
  },
  {
   "cell_type": "code",
   "execution_count": 22,
   "id": "monthly-panic",
   "metadata": {},
   "outputs": [
    {
     "data": {
      "text/html": [
       "<style  type=\"text/css\" >\n",
       "#T_55ae1_row0_col0,#T_55ae1_row1_col1,#T_55ae1_row1_col2,#T_55ae1_row1_col3,#T_55ae1_row2_col1,#T_55ae1_row2_col2,#T_55ae1_row3_col1,#T_55ae1_row3_col3,#T_55ae1_row3_col4,#T_55ae1_row3_col5,#T_55ae1_row4_col3,#T_55ae1_row4_col4,#T_55ae1_row4_col5,#T_55ae1_row5_col3,#T_55ae1_row5_col4,#T_55ae1_row5_col5,#T_55ae1_row6_col6,#T_55ae1_row7_col7,#T_55ae1_row8_col8,#T_55ae1_row9_col9,#T_55ae1_row10_col10{\n",
       "            background-color:  #ffd4ac;\n",
       "            color:  #000000;\n",
       "        }#T_55ae1_row0_col1,#T_55ae1_row0_col2,#T_55ae1_row0_col3,#T_55ae1_row0_col4,#T_55ae1_row0_col5,#T_55ae1_row0_col6,#T_55ae1_row0_col7,#T_55ae1_row0_col8,#T_55ae1_row0_col9,#T_55ae1_row0_col10,#T_55ae1_row1_col0,#T_55ae1_row3_col0,#T_55ae1_row4_col0,#T_55ae1_row5_col0,#T_55ae1_row6_col0,#T_55ae1_row7_col0{\n",
       "            background-color:  #bde7db;\n",
       "            color:  #000000;\n",
       "        }#T_55ae1_row1_col4,#T_55ae1_row1_col5,#T_55ae1_row2_col3,#T_55ae1_row3_col2,#T_55ae1_row4_col1,#T_55ae1_row4_col6,#T_55ae1_row5_col1,#T_55ae1_row5_col6,#T_55ae1_row6_col4,#T_55ae1_row6_col5,#T_55ae1_row6_col7,#T_55ae1_row7_col6{\n",
       "            background-color:  #fed1a9;\n",
       "            color:  #000000;\n",
       "        }#T_55ae1_row1_col6,#T_55ae1_row4_col7,#T_55ae1_row6_col1,#T_55ae1_row7_col4{\n",
       "            background-color:  #fdc99e;\n",
       "            color:  #000000;\n",
       "        }#T_55ae1_row1_col7,#T_55ae1_row3_col8,#T_55ae1_row7_col1,#T_55ae1_row8_col3{\n",
       "            background-color:  #fbbe8f;\n",
       "            color:  #000000;\n",
       "        }#T_55ae1_row1_col8,#T_55ae1_row2_col7,#T_55ae1_row7_col2,#T_55ae1_row8_col1{\n",
       "            background-color:  #fabb8b;\n",
       "            color:  #000000;\n",
       "        }#T_55ae1_row1_col9,#T_55ae1_row7_col10,#T_55ae1_row9_col1,#T_55ae1_row10_col7{\n",
       "            background-color:  #f7ae79;\n",
       "            color:  #000000;\n",
       "        }#T_55ae1_row1_col10,#T_55ae1_row10_col1{\n",
       "            background-color:  #f5a066;\n",
       "            color:  #000000;\n",
       "        }#T_55ae1_row2_col0,#T_55ae1_row8_col0{\n",
       "            background-color:  #bae5da;\n",
       "            color:  #000000;\n",
       "        }#T_55ae1_row2_col4,#T_55ae1_row2_col5,#T_55ae1_row3_col6,#T_55ae1_row4_col2,#T_55ae1_row5_col2,#T_55ae1_row6_col3{\n",
       "            background-color:  #fecea5;\n",
       "            color:  #000000;\n",
       "        }#T_55ae1_row2_col6,#T_55ae1_row3_col7,#T_55ae1_row6_col2,#T_55ae1_row7_col3,#T_55ae1_row8_col5,#T_55ae1_row8_col9,#T_55ae1_row9_col8{\n",
       "            background-color:  #fcc69a;\n",
       "            color:  #000000;\n",
       "        }#T_55ae1_row2_col8,#T_55ae1_row4_col9,#T_55ae1_row8_col2,#T_55ae1_row8_col10,#T_55ae1_row9_col4,#T_55ae1_row10_col8{\n",
       "            background-color:  #f9b684;\n",
       "            color:  #000000;\n",
       "        }#T_55ae1_row2_col9,#T_55ae1_row9_col2{\n",
       "            background-color:  #f6a871;\n",
       "            color:  #000000;\n",
       "        }#T_55ae1_row2_col10,#T_55ae1_row3_col10,#T_55ae1_row10_col2,#T_55ae1_row10_col3{\n",
       "            background-color:  #f49d63;\n",
       "            color:  #000000;\n",
       "        }#T_55ae1_row3_col9,#T_55ae1_row9_col3{\n",
       "            background-color:  #f8b07c;\n",
       "            color:  #000000;\n",
       "        }#T_55ae1_row4_col8,#T_55ae1_row5_col8,#T_55ae1_row7_col9,#T_55ae1_row8_col4,#T_55ae1_row9_col7{\n",
       "            background-color:  #fcc396;\n",
       "            color:  #000000;\n",
       "        }#T_55ae1_row4_col10,#T_55ae1_row10_col4{\n",
       "            background-color:  #f5a36a;\n",
       "            color:  #000000;\n",
       "        }#T_55ae1_row5_col7,#T_55ae1_row6_col8,#T_55ae1_row7_col5,#T_55ae1_row7_col8,#T_55ae1_row8_col6,#T_55ae1_row8_col7{\n",
       "            background-color:  #fdcca1;\n",
       "            color:  #000000;\n",
       "        }#T_55ae1_row5_col9,#T_55ae1_row9_col5,#T_55ae1_row9_col10,#T_55ae1_row10_col9{\n",
       "            background-color:  #fab887;\n",
       "            color:  #000000;\n",
       "        }#T_55ae1_row5_col10,#T_55ae1_row10_col5{\n",
       "            background-color:  #f6a56d;\n",
       "            color:  #000000;\n",
       "        }#T_55ae1_row6_col9,#T_55ae1_row9_col6{\n",
       "            background-color:  #fbc192;\n",
       "            color:  #000000;\n",
       "        }#T_55ae1_row6_col10,#T_55ae1_row10_col6{\n",
       "            background-color:  #f7ab75;\n",
       "            color:  #000000;\n",
       "        }#T_55ae1_row9_col0,#T_55ae1_row10_col0{\n",
       "            background-color:  #b7e3d9;\n",
       "            color:  #000000;\n",
       "        }</style><table id=\"T_55ae1_\" ><thead>    <tr>        <th class=\"blank level0\" ></th>        <th class=\"col_heading level0 col0\" >Department Overseas (1 = yes 0 = no) </th>        <th class=\"col_heading level0 col1\" >Total Number of Employers</th>        <th class=\"col_heading level0 col2\" >Unknown Size of Employers</th>        <th class=\"col_heading level0 col3\" >1 to 5 employees</th>        <th class=\"col_heading level0 col4\" >6 to 9 employees</th>        <th class=\"col_heading level0 col5\" >10 to 19 employees</th>        <th class=\"col_heading level0 col6\" >20 to 49 employees</th>        <th class=\"col_heading level0 col7\" >50 to 99 employees</th>        <th class=\"col_heading level0 col8\" >100 to 199 employees</th>        <th class=\"col_heading level0 col9\" >200 to 499 employees</th>        <th class=\"col_heading level0 col10\" >>500 employees</th>    </tr></thead><tbody>\n",
       "                <tr>\n",
       "                        <th id=\"T_55ae1_level0_row0\" class=\"row_heading level0 row0\" >Department Overseas (1 = yes 0 = no) </th>\n",
       "                        <td id=\"T_55ae1_row0_col0\" class=\"data row0 col0\" >1.000000</td>\n",
       "                        <td id=\"T_55ae1_row0_col1\" class=\"data row0 col1\" >0.029689</td>\n",
       "                        <td id=\"T_55ae1_row0_col2\" class=\"data row0 col2\" >0.030633</td>\n",
       "                        <td id=\"T_55ae1_row0_col3\" class=\"data row0 col3\" >0.026210</td>\n",
       "                        <td id=\"T_55ae1_row0_col4\" class=\"data row0 col4\" >0.029127</td>\n",
       "                        <td id=\"T_55ae1_row0_col5\" class=\"data row0 col5\" >0.026313</td>\n",
       "                        <td id=\"T_55ae1_row0_col6\" class=\"data row0 col6\" >0.028231</td>\n",
       "                        <td id=\"T_55ae1_row0_col7\" class=\"data row0 col7\" >0.029870</td>\n",
       "                        <td id=\"T_55ae1_row0_col8\" class=\"data row0 col8\" >0.033277</td>\n",
       "                        <td id=\"T_55ae1_row0_col9\" class=\"data row0 col9\" >0.035453</td>\n",
       "                        <td id=\"T_55ae1_row0_col10\" class=\"data row0 col10\" >0.034772</td>\n",
       "            </tr>\n",
       "            <tr>\n",
       "                        <th id=\"T_55ae1_level0_row1\" class=\"row_heading level0 row1\" >Total Number of Employers</th>\n",
       "                        <td id=\"T_55ae1_row1_col0\" class=\"data row1 col0\" >0.029689</td>\n",
       "                        <td id=\"T_55ae1_row1_col1\" class=\"data row1 col1\" >1.000000</td>\n",
       "                        <td id=\"T_55ae1_row1_col2\" class=\"data row1 col2\" >0.999489</td>\n",
       "                        <td id=\"T_55ae1_row1_col3\" class=\"data row1 col3\" >0.996461</td>\n",
       "                        <td id=\"T_55ae1_row1_col4\" class=\"data row1 col4\" >0.995297</td>\n",
       "                        <td id=\"T_55ae1_row1_col5\" class=\"data row1 col5\" >0.993956</td>\n",
       "                        <td id=\"T_55ae1_row1_col6\" class=\"data row1 col6\" >0.984406</td>\n",
       "                        <td id=\"T_55ae1_row1_col7\" class=\"data row1 col7\" >0.969626</td>\n",
       "                        <td id=\"T_55ae1_row1_col8\" class=\"data row1 col8\" >0.962369</td>\n",
       "                        <td id=\"T_55ae1_row1_col9\" class=\"data row1 col9\" >0.943975</td>\n",
       "                        <td id=\"T_55ae1_row1_col10\" class=\"data row1 col10\" >0.924913</td>\n",
       "            </tr>\n",
       "            <tr>\n",
       "                        <th id=\"T_55ae1_level0_row2\" class=\"row_heading level0 row2\" >Unknown Size of Employers</th>\n",
       "                        <td id=\"T_55ae1_row2_col0\" class=\"data row2 col0\" >0.030633</td>\n",
       "                        <td id=\"T_55ae1_row2_col1\" class=\"data row2 col1\" >0.999489</td>\n",
       "                        <td id=\"T_55ae1_row2_col2\" class=\"data row2 col2\" >1.000000</td>\n",
       "                        <td id=\"T_55ae1_row2_col3\" class=\"data row2 col3\" >0.993396</td>\n",
       "                        <td id=\"T_55ae1_row2_col4\" class=\"data row2 col4\" >0.991979</td>\n",
       "                        <td id=\"T_55ae1_row2_col5\" class=\"data row2 col5\" >0.990579</td>\n",
       "                        <td id=\"T_55ae1_row2_col6\" class=\"data row2 col6\" >0.979331</td>\n",
       "                        <td id=\"T_55ae1_row2_col7\" class=\"data row2 col7\" >0.963099</td>\n",
       "                        <td id=\"T_55ae1_row2_col8\" class=\"data row2 col8\" >0.956575</td>\n",
       "                        <td id=\"T_55ae1_row2_col9\" class=\"data row2 col9\" >0.938243</td>\n",
       "                        <td id=\"T_55ae1_row2_col10\" class=\"data row2 col10\" >0.921855</td>\n",
       "            </tr>\n",
       "            <tr>\n",
       "                        <th id=\"T_55ae1_level0_row3\" class=\"row_heading level0 row3\" >1 to 5 employees</th>\n",
       "                        <td id=\"T_55ae1_row3_col0\" class=\"data row3 col0\" >0.026210</td>\n",
       "                        <td id=\"T_55ae1_row3_col1\" class=\"data row3 col1\" >0.996461</td>\n",
       "                        <td id=\"T_55ae1_row3_col2\" class=\"data row3 col2\" >0.993396</td>\n",
       "                        <td id=\"T_55ae1_row3_col3\" class=\"data row3 col3\" >1.000000</td>\n",
       "                        <td id=\"T_55ae1_row3_col4\" class=\"data row3 col4\" >0.998088</td>\n",
       "                        <td id=\"T_55ae1_row3_col5\" class=\"data row3 col5\" >0.996207</td>\n",
       "                        <td id=\"T_55ae1_row3_col6\" class=\"data row3 col6\" >0.990042</td>\n",
       "                        <td id=\"T_55ae1_row3_col7\" class=\"data row3 col7\" >0.978388</td>\n",
       "                        <td id=\"T_55ae1_row3_col8\" class=\"data row3 col8\" >0.968586</td>\n",
       "                        <td id=\"T_55ae1_row3_col9\" class=\"data row3 col9\" >0.949235</td>\n",
       "                        <td id=\"T_55ae1_row3_col10\" class=\"data row3 col10\" >0.923146</td>\n",
       "            </tr>\n",
       "            <tr>\n",
       "                        <th id=\"T_55ae1_level0_row4\" class=\"row_heading level0 row4\" >6 to 9 employees</th>\n",
       "                        <td id=\"T_55ae1_row4_col0\" class=\"data row4 col0\" >0.029127</td>\n",
       "                        <td id=\"T_55ae1_row4_col1\" class=\"data row4 col1\" >0.995297</td>\n",
       "                        <td id=\"T_55ae1_row4_col2\" class=\"data row4 col2\" >0.991979</td>\n",
       "                        <td id=\"T_55ae1_row4_col3\" class=\"data row4 col3\" >0.998088</td>\n",
       "                        <td id=\"T_55ae1_row4_col4\" class=\"data row4 col4\" >1.000000</td>\n",
       "                        <td id=\"T_55ae1_row4_col5\" class=\"data row4 col5\" >0.998597</td>\n",
       "                        <td id=\"T_55ae1_row4_col6\" class=\"data row4 col6\" >0.994095</td>\n",
       "                        <td id=\"T_55ae1_row4_col7\" class=\"data row4 col7\" >0.983196</td>\n",
       "                        <td id=\"T_55ae1_row4_col8\" class=\"data row4 col8\" >0.973983</td>\n",
       "                        <td id=\"T_55ae1_row4_col9\" class=\"data row4 col9\" >0.955951</td>\n",
       "                        <td id=\"T_55ae1_row4_col10\" class=\"data row4 col10\" >0.929608</td>\n",
       "            </tr>\n",
       "            <tr>\n",
       "                        <th id=\"T_55ae1_level0_row5\" class=\"row_heading level0 row5\" >10 to 19 employees</th>\n",
       "                        <td id=\"T_55ae1_row5_col0\" class=\"data row5 col0\" >0.026313</td>\n",
       "                        <td id=\"T_55ae1_row5_col1\" class=\"data row5 col1\" >0.993956</td>\n",
       "                        <td id=\"T_55ae1_row5_col2\" class=\"data row5 col2\" >0.990579</td>\n",
       "                        <td id=\"T_55ae1_row5_col3\" class=\"data row5 col3\" >0.996207</td>\n",
       "                        <td id=\"T_55ae1_row5_col4\" class=\"data row5 col4\" >0.998597</td>\n",
       "                        <td id=\"T_55ae1_row5_col5\" class=\"data row5 col5\" >1.000000</td>\n",
       "                        <td id=\"T_55ae1_row5_col6\" class=\"data row5 col6\" >0.995787</td>\n",
       "                        <td id=\"T_55ae1_row5_col7\" class=\"data row5 col7\" >0.985659</td>\n",
       "                        <td id=\"T_55ae1_row5_col8\" class=\"data row5 col8\" >0.977239</td>\n",
       "                        <td id=\"T_55ae1_row5_col9\" class=\"data row5 col9\" >0.959891</td>\n",
       "                        <td id=\"T_55ae1_row5_col10\" class=\"data row5 col10\" >0.934023</td>\n",
       "            </tr>\n",
       "            <tr>\n",
       "                        <th id=\"T_55ae1_level0_row6\" class=\"row_heading level0 row6\" >20 to 49 employees</th>\n",
       "                        <td id=\"T_55ae1_row6_col0\" class=\"data row6 col0\" >0.028231</td>\n",
       "                        <td id=\"T_55ae1_row6_col1\" class=\"data row6 col1\" >0.984406</td>\n",
       "                        <td id=\"T_55ae1_row6_col2\" class=\"data row6 col2\" >0.979331</td>\n",
       "                        <td id=\"T_55ae1_row6_col3\" class=\"data row6 col3\" >0.990042</td>\n",
       "                        <td id=\"T_55ae1_row6_col4\" class=\"data row6 col4\" >0.994095</td>\n",
       "                        <td id=\"T_55ae1_row6_col5\" class=\"data row6 col5\" >0.995787</td>\n",
       "                        <td id=\"T_55ae1_row6_col6\" class=\"data row6 col6\" >1.000000</td>\n",
       "                        <td id=\"T_55ae1_row6_col7\" class=\"data row6 col7\" >0.992583</td>\n",
       "                        <td id=\"T_55ae1_row6_col8\" class=\"data row6 col8\" >0.985338</td>\n",
       "                        <td id=\"T_55ae1_row6_col9\" class=\"data row6 col9\" >0.970295</td>\n",
       "                        <td id=\"T_55ae1_row6_col10\" class=\"data row6 col10\" >0.940543</td>\n",
       "            </tr>\n",
       "            <tr>\n",
       "                        <th id=\"T_55ae1_level0_row7\" class=\"row_heading level0 row7\" >50 to 99 employees</th>\n",
       "                        <td id=\"T_55ae1_row7_col0\" class=\"data row7 col0\" >0.029870</td>\n",
       "                        <td id=\"T_55ae1_row7_col1\" class=\"data row7 col1\" >0.969626</td>\n",
       "                        <td id=\"T_55ae1_row7_col2\" class=\"data row7 col2\" >0.963099</td>\n",
       "                        <td id=\"T_55ae1_row7_col3\" class=\"data row7 col3\" >0.978388</td>\n",
       "                        <td id=\"T_55ae1_row7_col4\" class=\"data row7 col4\" >0.983196</td>\n",
       "                        <td id=\"T_55ae1_row7_col5\" class=\"data row7 col5\" >0.985659</td>\n",
       "                        <td id=\"T_55ae1_row7_col6\" class=\"data row7 col6\" >0.992583</td>\n",
       "                        <td id=\"T_55ae1_row7_col7\" class=\"data row7 col7\" >1.000000</td>\n",
       "                        <td id=\"T_55ae1_row7_col8\" class=\"data row7 col8\" >0.987325</td>\n",
       "                        <td id=\"T_55ae1_row7_col9\" class=\"data row7 col9\" >0.974962</td>\n",
       "                        <td id=\"T_55ae1_row7_col10\" class=\"data row7 col10\" >0.943851</td>\n",
       "            </tr>\n",
       "            <tr>\n",
       "                        <th id=\"T_55ae1_level0_row8\" class=\"row_heading level0 row8\" >100 to 199 employees</th>\n",
       "                        <td id=\"T_55ae1_row8_col0\" class=\"data row8 col0\" >0.033277</td>\n",
       "                        <td id=\"T_55ae1_row8_col1\" class=\"data row8 col1\" >0.962369</td>\n",
       "                        <td id=\"T_55ae1_row8_col2\" class=\"data row8 col2\" >0.956575</td>\n",
       "                        <td id=\"T_55ae1_row8_col3\" class=\"data row8 col3\" >0.968586</td>\n",
       "                        <td id=\"T_55ae1_row8_col4\" class=\"data row8 col4\" >0.973983</td>\n",
       "                        <td id=\"T_55ae1_row8_col5\" class=\"data row8 col5\" >0.977239</td>\n",
       "                        <td id=\"T_55ae1_row8_col6\" class=\"data row8 col6\" >0.985338</td>\n",
       "                        <td id=\"T_55ae1_row8_col7\" class=\"data row8 col7\" >0.987325</td>\n",
       "                        <td id=\"T_55ae1_row8_col8\" class=\"data row8 col8\" >1.000000</td>\n",
       "                        <td id=\"T_55ae1_row8_col9\" class=\"data row8 col9\" >0.979842</td>\n",
       "                        <td id=\"T_55ae1_row8_col10\" class=\"data row8 col10\" >0.955842</td>\n",
       "            </tr>\n",
       "            <tr>\n",
       "                        <th id=\"T_55ae1_level0_row9\" class=\"row_heading level0 row9\" >200 to 499 employees</th>\n",
       "                        <td id=\"T_55ae1_row9_col0\" class=\"data row9 col0\" >0.035453</td>\n",
       "                        <td id=\"T_55ae1_row9_col1\" class=\"data row9 col1\" >0.943975</td>\n",
       "                        <td id=\"T_55ae1_row9_col2\" class=\"data row9 col2\" >0.938243</td>\n",
       "                        <td id=\"T_55ae1_row9_col3\" class=\"data row9 col3\" >0.949235</td>\n",
       "                        <td id=\"T_55ae1_row9_col4\" class=\"data row9 col4\" >0.955951</td>\n",
       "                        <td id=\"T_55ae1_row9_col5\" class=\"data row9 col5\" >0.959891</td>\n",
       "                        <td id=\"T_55ae1_row9_col6\" class=\"data row9 col6\" >0.970295</td>\n",
       "                        <td id=\"T_55ae1_row9_col7\" class=\"data row9 col7\" >0.974962</td>\n",
       "                        <td id=\"T_55ae1_row9_col8\" class=\"data row9 col8\" >0.979842</td>\n",
       "                        <td id=\"T_55ae1_row9_col9\" class=\"data row9 col9\" >1.000000</td>\n",
       "                        <td id=\"T_55ae1_row9_col10\" class=\"data row9 col10\" >0.961836</td>\n",
       "            </tr>\n",
       "            <tr>\n",
       "                        <th id=\"T_55ae1_level0_row10\" class=\"row_heading level0 row10\" >>500 employees</th>\n",
       "                        <td id=\"T_55ae1_row10_col0\" class=\"data row10 col0\" >0.034772</td>\n",
       "                        <td id=\"T_55ae1_row10_col1\" class=\"data row10 col1\" >0.924913</td>\n",
       "                        <td id=\"T_55ae1_row10_col2\" class=\"data row10 col2\" >0.921855</td>\n",
       "                        <td id=\"T_55ae1_row10_col3\" class=\"data row10 col3\" >0.923146</td>\n",
       "                        <td id=\"T_55ae1_row10_col4\" class=\"data row10 col4\" >0.929608</td>\n",
       "                        <td id=\"T_55ae1_row10_col5\" class=\"data row10 col5\" >0.934023</td>\n",
       "                        <td id=\"T_55ae1_row10_col6\" class=\"data row10 col6\" >0.940543</td>\n",
       "                        <td id=\"T_55ae1_row10_col7\" class=\"data row10 col7\" >0.943851</td>\n",
       "                        <td id=\"T_55ae1_row10_col8\" class=\"data row10 col8\" >0.955842</td>\n",
       "                        <td id=\"T_55ae1_row10_col9\" class=\"data row10 col9\" >0.961836</td>\n",
       "                        <td id=\"T_55ae1_row10_col10\" class=\"data row10 col10\" >1.000000</td>\n",
       "            </tr>\n",
       "    </tbody></table>"
      ],
      "text/plain": [
       "<pandas.io.formats.style.Styler at 0x28455ca2048>"
      ]
     },
     "execution_count": 22,
     "metadata": {},
     "output_type": "execute_result"
    }
   ],
   "source": [
    "data.corr().style.background_gradient(cmap='icefire')"
   ]
  },
  {
   "cell_type": "markdown",
   "id": "scenic-incentive",
   "metadata": {},
   "source": [
    "To find out the correlation between the total numbef of employers and the department overseas column, we use the built-in function **.corr** of pandas. For the output we got, we can see from the correlation coefficient is **0.029689**, which means there is no or very little correlation between the total number of employers and the department overseas.\n",
    "\n",
    "To extend this further, we also used the same function to find out the correlation among all the columns of the dataset, and the output we get is in terms of a matrix which gradient color. The correlation value of 1 or closer to 1 represents a strong correlation, whereas the value equal to closer to 0 represents that there is very weak or no correlation amongh the variables."
   ]
  },
  {
   "cell_type": "markdown",
   "id": "addressed-expression",
   "metadata": {},
   "source": [
    "Finding out the mean number of employers region-wise"
   ]
  },
  {
   "cell_type": "code",
   "execution_count": 23,
   "id": "urban-sterling",
   "metadata": {},
   "outputs": [],
   "source": [
    "meanTotalEmployers = []\n",
    "for region in regions:\n",
    "    mean = data[data['Region N'] == region]['Total Number of Employers'].mean()\n",
    "    meanTotalEmployers.append(mean)\n",
    "    \n",
    "sumTotalEmployers = []\n",
    "for region in regions:\n",
    "    sum_ = data[data['Region N'] == region]['Total Number of Employers'].sum()\n",
    "    sumTotalEmployers.append(sum_)"
   ]
  },
  {
   "cell_type": "code",
   "execution_count": 24,
   "id": "geographic-flight",
   "metadata": {},
   "outputs": [
    {
     "data": {
      "image/png": "[encoded data removed]",
      "text/plain": [
       "<Figure size 1440x720 with 1 Axes>"
      ]
     },
     "metadata": {
      "needs_background": "light"
     },
     "output_type": "display_data"
    }
   ],
   "source": [
    "colors = cm.inferno_r(np.linspace(.9, .45, 21))\n",
    "fig, ax = plt.subplots(figsize=(20,10))\n",
    "\n",
    "bar1 = plt.bar(regions, meanTotalEmployers, align='center', color=colors)\n",
    "plt.bar_label(bar1, padding=3, fontsize=7.5)\n",
    "plt.xlabel('Regions')\n",
    "plt.ylabel('Mean Employers')\n",
    "plt.title('Mean Employers in Each Region')\n",
    "plt.xticks(rotation = 90)\n",
    "plt.show()"
   ]
  },
  {
   "cell_type": "markdown",
   "id": "scientific-cookbook",
   "metadata": {},
   "source": [
    "The highest number of mean total employers are in Reunion region, which shows that despite the fact that this region has a smaller number of towns (only 24 towns), it has a high ratio of employers compared to other regions. Same is the case for Guadeloupe and Martinique, both of them have town count of 32 and 34 respectively, but the number of employers in these regions is very large compared to its size and town count."
   ]
  },
  {
   "cell_type": "code",
   "execution_count": 25,
   "id": "accepted-hayes",
   "metadata": {},
   "outputs": [
    {
     "data": {
      "image/png": "[encoded data removed]",
      "text/plain": [
       "<Figure size 1440x720 with 1 Axes>"
      ]
     },
     "metadata": {
      "needs_background": "light"
     },
     "output_type": "display_data"
    }
   ],
   "source": [
    "colors = cm.inferno_r(np.linspace(.9, .45, 21))\n",
    "fig, ax = plt.subplots(figsize=(20,10))\n",
    "\n",
    "bar1 = plt.bar(regions, sumTotalEmployers, align='center', color=colors)\n",
    "plt.bar_label(bar1, padding=3, fontsize=7.5)\n",
    "plt.xlabel('Regions')\n",
    "plt.ylabel('Sum of Total Employers')\n",
    "plt.title('Sum of Employers in Each Region')\n",
    "plt.xticks(rotation = 90)\n",
    "plt.show()"
   ]
  },
  {
   "cell_type": "markdown",
   "id": "configured-girlfriend",
   "metadata": {},
   "source": [
    "This chart allows us to analyze that as seen from the bar chart in Q2 that Brittany has the most number of towns, but it has a lower number of employers compared to France whose town count is almost half of the Brittany. Thus, we can say that France has more opportunities as compared to other regions. And from the mean graph, we can say that despite a very small number of towns in Reunion (24 towns), it has a huge number of employers, therefore it has higher mean of the total employers."
   ]
  },
  {
   "cell_type": "markdown",
   "id": "prompt-anniversary",
   "metadata": {},
   "source": [
    "# 4)\n",
    "\n",
    "#### perform a simple linear regression with the data available ( of your choice ) where we compare two variables."
   ]
  },
  {
   "attachments": {},
   "cell_type": "markdown",
   "id": "headed-lightweight",
   "metadata": {},
   "source": [
    "We build the linear regression model based on the Total Number of Employers and Unknown Size of Employers, and our target variable is to predict '200 to 499 employees'. So we first filter our original dataset to get only the required columns."
   ]
  },
  {
   "cell_type": "code",
   "execution_count": 26,
   "id": "ordinary-suggestion",
   "metadata": {},
   "outputs": [],
   "source": [
    "regressionData = data.iloc[:,4:]\n",
    "regressionData.columns = regressionData.columns.str.replace(' ', '')\n",
    "regressionData = regressionData.add_prefix('_')"
   ]
  },
  {
   "cell_type": "markdown",
   "id": "quick-hungarian",
   "metadata": {},
   "source": [
    "We use the **describe** function of the pandas to get some statistics of the filtered dataset."
   ]
  },
  {
   "cell_type": "code",
   "execution_count": 27,
   "id": "complicated-saskatchewan",
   "metadata": {},
   "outputs": [
    {
     "data": {
      "text/html": [
       "<div>\n",
       "<style scoped>\n",
       "    .dataframe tbody tr th:only-of-type {\n",
       "        vertical-align: middle;\n",
       "    }\n",
       "\n",
       "    .dataframe tbody tr th {\n",
       "        vertical-align: top;\n",
       "    }\n",
       "\n",
       "    .dataframe thead th {\n",
       "        text-align: right;\n",
       "    }\n",
       "</style>\n",
       "<table border=\"1\" class=\"dataframe\">\n",
       "  <thead>\n",
       "    <tr style=\"text-align: right;\">\n",
       "      <th></th>\n",
       "      <th>_TotalNumberofEmployers</th>\n",
       "      <th>_UnknownSizeofEmployers</th>\n",
       "      <th>_1to5employees</th>\n",
       "      <th>_6to9employees</th>\n",
       "      <th>_10to19employees</th>\n",
       "      <th>_20to49employees</th>\n",
       "      <th>_50to99employees</th>\n",
       "      <th>_100to199employees</th>\n",
       "      <th>_200to499employees</th>\n",
       "      <th>_&gt;500employees</th>\n",
       "    </tr>\n",
       "  </thead>\n",
       "  <tbody>\n",
       "    <tr>\n",
       "      <th>count</th>\n",
       "      <td>36681.000000</td>\n",
       "      <td>36681.000000</td>\n",
       "      <td>36681.000000</td>\n",
       "      <td>36681.000000</td>\n",
       "      <td>36681.000000</td>\n",
       "      <td>36681.000000</td>\n",
       "      <td>36681.000000</td>\n",
       "      <td>36681.000000</td>\n",
       "      <td>36681.000000</td>\n",
       "      <td>36681.000000</td>\n",
       "    </tr>\n",
       "    <tr>\n",
       "      <th>mean</th>\n",
       "      <td>123.456067</td>\n",
       "      <td>83.555301</td>\n",
       "      <td>27.291486</td>\n",
       "      <td>5.220550</td>\n",
       "      <td>3.800333</td>\n",
       "      <td>2.296448</td>\n",
       "      <td>0.738339</td>\n",
       "      <td>0.332434</td>\n",
       "      <td>0.172760</td>\n",
       "      <td>0.048417</td>\n",
       "    </tr>\n",
       "    <tr>\n",
       "      <th>std</th>\n",
       "      <td>2353.384846</td>\n",
       "      <td>1729.874812</td>\n",
       "      <td>432.062116</td>\n",
       "      <td>83.685519</td>\n",
       "      <td>60.961216</td>\n",
       "      <td>32.597382</td>\n",
       "      <td>9.882131</td>\n",
       "      <td>4.850211</td>\n",
       "      <td>2.783668</td>\n",
       "      <td>1.091031</td>\n",
       "    </tr>\n",
       "    <tr>\n",
       "      <th>min</th>\n",
       "      <td>0.000000</td>\n",
       "      <td>0.000000</td>\n",
       "      <td>0.000000</td>\n",
       "      <td>0.000000</td>\n",
       "      <td>0.000000</td>\n",
       "      <td>0.000000</td>\n",
       "      <td>0.000000</td>\n",
       "      <td>0.000000</td>\n",
       "      <td>0.000000</td>\n",
       "      <td>0.000000</td>\n",
       "    </tr>\n",
       "    <tr>\n",
       "      <th>25%</th>\n",
       "      <td>8.000000</td>\n",
       "      <td>6.000000</td>\n",
       "      <td>1.000000</td>\n",
       "      <td>0.000000</td>\n",
       "      <td>0.000000</td>\n",
       "      <td>0.000000</td>\n",
       "      <td>0.000000</td>\n",
       "      <td>0.000000</td>\n",
       "      <td>0.000000</td>\n",
       "      <td>0.000000</td>\n",
       "    </tr>\n",
       "    <tr>\n",
       "      <th>50%</th>\n",
       "      <td>19.000000</td>\n",
       "      <td>14.000000</td>\n",
       "      <td>3.000000</td>\n",
       "      <td>0.000000</td>\n",
       "      <td>0.000000</td>\n",
       "      <td>0.000000</td>\n",
       "      <td>0.000000</td>\n",
       "      <td>0.000000</td>\n",
       "      <td>0.000000</td>\n",
       "      <td>0.000000</td>\n",
       "    </tr>\n",
       "    <tr>\n",
       "      <th>75%</th>\n",
       "      <td>54.000000</td>\n",
       "      <td>39.000000</td>\n",
       "      <td>11.000000</td>\n",
       "      <td>2.000000</td>\n",
       "      <td>1.000000</td>\n",
       "      <td>1.000000</td>\n",
       "      <td>0.000000</td>\n",
       "      <td>0.000000</td>\n",
       "      <td>0.000000</td>\n",
       "      <td>0.000000</td>\n",
       "    </tr>\n",
       "    <tr>\n",
       "      <th>max</th>\n",
       "      <td>427385.000000</td>\n",
       "      <td>316603.000000</td>\n",
       "      <td>76368.000000</td>\n",
       "      <td>14836.000000</td>\n",
       "      <td>10829.000000</td>\n",
       "      <td>5643.000000</td>\n",
       "      <td>1658.000000</td>\n",
       "      <td>812.000000</td>\n",
       "      <td>456.000000</td>\n",
       "      <td>180.000000</td>\n",
       "    </tr>\n",
       "  </tbody>\n",
       "</table>\n",
       "</div>"
      ],
      "text/plain": [
       "       _TotalNumberofEmployers  _UnknownSizeofEmployers  _1to5employees  \\\n",
       "count             36681.000000             36681.000000    36681.000000   \n",
       "mean                123.456067                83.555301       27.291486   \n",
       "std                2353.384846              1729.874812      432.062116   \n",
       "min                   0.000000                 0.000000        0.000000   \n",
       "25%                   8.000000                 6.000000        1.000000   \n",
       "50%                  19.000000                14.000000        3.000000   \n",
       "75%                  54.000000                39.000000       11.000000   \n",
       "max              427385.000000            316603.000000    76368.000000   \n",
       "\n",
       "       _6to9employees  _10to19employees  _20to49employees  _50to99employees  \\\n",
       "count    36681.000000      36681.000000      36681.000000      36681.000000   \n",
       "mean         5.220550          3.800333          2.296448          0.738339   \n",
       "std         83.685519         60.961216         32.597382          9.882131   \n",
       "min          0.000000          0.000000          0.000000          0.000000   \n",
       "25%          0.000000          0.000000          0.000000          0.000000   \n",
       "50%          0.000000          0.000000          0.000000          0.000000   \n",
       "75%          2.000000          1.000000          1.000000          0.000000   \n",
       "max      14836.000000      10829.000000       5643.000000       1658.000000   \n",
       "\n",
       "       _100to199employees  _200to499employees  _>500employees  \n",
       "count        36681.000000        36681.000000    36681.000000  \n",
       "mean             0.332434            0.172760        0.048417  \n",
       "std              4.850211            2.783668        1.091031  \n",
       "min              0.000000            0.000000        0.000000  \n",
       "25%              0.000000            0.000000        0.000000  \n",
       "50%              0.000000            0.000000        0.000000  \n",
       "75%              0.000000            0.000000        0.000000  \n",
       "max            812.000000          456.000000      180.000000  "
      ]
     },
     "execution_count": 27,
     "metadata": {},
     "output_type": "execute_result"
    }
   ],
   "source": [
    "regressionData.describe()"
   ]
  },
  {
   "cell_type": "markdown",
   "id": "racial-pearl",
   "metadata": {},
   "source": [
    "Splitting the dataset into test and train so that we can also assess the overall accuracy of the model. In the following chunk of code, the trainSize represents the percent of training dataset to be used, and testSize represents the percent of test dataset to be used."
   ]
  },
  {
   "cell_type": "code",
   "execution_count": 28,
   "id": "sought-draft",
   "metadata": {},
   "outputs": [],
   "source": [
    "trainSize = int(0.75 * len(regressionData))\n",
    "\n",
    "regressionDataTrain = regressionData.iloc[0:trainSize, :]\n",
    "regressionDataTest = regressionData.iloc[trainSize:, :]"
   ]
  },
  {
   "cell_type": "markdown",
   "id": "dramatic-harbor",
   "metadata": {},
   "source": [
    "### Model\n",
    "Ordinary Least Square Regression Feature:\n",
    "\n",
    "    * Dependent Variable (Response Variable): _200to499Employees\n",
    "    * Independent Variable (Explanatory Variable): Total Number of Employers, and Unknown Size of Employers\n",
    "   "
   ]
  },
  {
   "cell_type": "code",
   "execution_count": 29,
   "id": "internal-fifteen",
   "metadata": {},
   "outputs": [
    {
     "name": "stdout",
     "output_type": "stream",
     "text": [
      "                            OLS Regression Results                            \n",
      "==============================================================================\n",
      "Dep. Variable:     _200to499employees   R-squared:                       0.925\n",
      "Model:                            OLS   Adj. R-squared:                  0.925\n",
      "Method:                 Least Squares   F-statistic:                 1.704e+05\n",
      "Date:                Thu, 23 Dec 2021   Prob (F-statistic):               0.00\n",
      "Time:                        00:05:32   Log-Likelihood:                -34272.\n",
      "No. Observations:               27510   AIC:                         6.855e+04\n",
      "Df Residuals:                   27507   BIC:                         6.857e+04\n",
      "Df Model:                           2                                         \n",
      "Covariance Type:            nonrobust                                         \n",
      "===========================================================================================\n",
      "                              coef    std err          t      P>|t|      [0.025      0.975]\n",
      "-------------------------------------------------------------------------------------------\n",
      "Intercept                  -0.0168      0.005     -3.278      0.001      -0.027      -0.007\n",
      "_TotalNumberofEmployers     0.0082   7.33e-05    112.198      0.000       0.008       0.008\n",
      "_UnknownSizeofEmployers    -0.0097   9.94e-05    -97.119      0.000      -0.010      -0.009\n",
      "==============================================================================\n",
      "Omnibus:                    67949.082   Durbin-Watson:                   1.608\n",
      "Prob(Omnibus):                  0.000   Jarque-Bera (JB):       1792244150.293\n",
      "Skew:                          26.319   Prob(JB):                         0.00\n",
      "Kurtosis:                    1252.320   Cond. No.                     3.32e+03\n",
      "==============================================================================\n",
      "\n",
      "Notes:\n",
      "[1] Standard Errors assume that the covariance matrix of the errors is correctly specified.\n",
      "[2] The condition number is large, 3.32e+03. This might indicate that there are\n",
      "strong multicollinearity or other numerical problems.\n"
     ]
    }
   ],
   "source": [
    "model = str('_200to499employees ~ _TotalNumberofEmployers + _UnknownSizeofEmployers')\n",
    "\n",
    "train_m1_fit = smf.ols(model, data= regressionDataTrain).fit()\n",
    "print(train_m1_fit.summary())"
   ]
  },
  {
   "cell_type": "markdown",
   "id": "pregnant-documentation",
   "metadata": {},
   "source": [
    "This is the ordinary regression model result of dependent variables _200to499employees with the inpedendent variables Total Number of Employers, and Unknown Size of Employers. There is a linear relationship between these variables and we can also see that p-value for the intercept is **0.001** which means that our that our parameters which we have used as independent variables are statistically significant.\n"
   ]
  }
 ],
 "metadata": {
  "kernelspec": {
   "display_name": "Python 3",
   "language": "python",
   "name": "python3"
  },
  "language_info": {
   "codemirror_mode": {
    "name": "ipython",
    "version": 3
   },
   "file_extension": ".py",
   "mimetype": "text/x-python",
   "name": "python",
   "nbconvert_exporter": "python",
   "pygments_lexer": "ipython3",
   "version": "3.7.10"
  }
 },
 "nbformat": 4,
 "nbformat_minor": 5
}
